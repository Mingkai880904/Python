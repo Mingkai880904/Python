{
  "nbformat": 4,
  "nbformat_minor": 0,
  "metadata": {
    "colab": {
      "name": "numpy.ipynb",
      "version": "0.3.2",
      "provenance": [],
      "include_colab_link": true
    },
    "kernelspec": {
      "name": "python3",
      "display_name": "Python 3"
    }
  },
  "cells": [
    {
      "cell_type": "markdown",
      "metadata": {
        "id": "view-in-github",
        "colab_type": "text"
      },
      "source": [
        "<a href=\"https://colab.research.google.com/github/MyDearGreatTeacher/HappyPythonDay/blob/master/numpy.ipynb\" target=\"_parent\"><img src=\"https://colab.research.google.com/assets/colab-badge.svg\" alt=\"Open In Colab\"/></a>"
      ]
    },
    {
      "cell_type": "markdown",
      "metadata": {
        "id": "FC77lbikGCKF",
        "colab_type": "text"
      },
      "source": [
        "# Numpy\n",
        "\n",
        "偉大的龍大大\n"
      ]
    },
    {
      "cell_type": "markdown",
      "metadata": {
        "id": "NlNyl3dCGmil",
        "colab_type": "text"
      },
      "source": [
        "## 檢視Google Colab平台的軟體版本"
      ]
    },
    {
      "cell_type": "code",
      "metadata": {
        "id": "dM3QtIRTCTGp",
        "colab_type": "code",
        "colab": {}
      },
      "source": [
        "import pandas as pd\n",
        "print(\"pandas version: %s\" % pd.__version__)"
      ],
      "execution_count": 0,
      "outputs": []
    },
    {
      "cell_type": "code",
      "metadata": {
        "id": "siD8ux90E_A2",
        "colab_type": "code",
        "colab": {}
      },
      "source": [
        "import matplotlib\n",
        "print(\"matplotlib version: %s\" % matplotlib.__version__)\n",
        "import numpy as np\n",
        "print(\"numpy version: %s\" % np.__version__)\n",
        "import sklearn\n",
        "print(\"scikit-learn version: %s\" % sklearn.__version__)"
      ],
      "execution_count": 0,
      "outputs": []
    },
    {
      "cell_type": "markdown",
      "metadata": {
        "id": "r3mxmiKJJ47l",
        "colab_type": "text"
      },
      "source": [
        "# 建立array(陣列)"
      ]
    },
    {
      "cell_type": "markdown",
      "metadata": {
        "id": "04rgtaDLKp6k",
        "colab_type": "text"
      },
      "source": [
        "### 使用np.array()建立陣列"
      ]
    },
    {
      "cell_type": "code",
      "metadata": {
        "id": "IpY7WJd1J6KE",
        "colab_type": "code",
        "colab": {}
      },
      "source": [
        "import numpy as np\n",
        "x = np.array([[1,2.0],[0,0],(1+1j,3.)])\n",
        "print(x)"
      ],
      "execution_count": 0,
      "outputs": []
    },
    {
      "cell_type": "markdown",
      "metadata": {
        "id": "Xw1L8M3mLBU8",
        "colab_type": "text"
      },
      "source": [
        "### 使用numpy提供的創建函數直接生成\n"
      ]
    },
    {
      "cell_type": "code",
      "metadata": {
        "id": "NyP14G8VLDCU",
        "colab_type": "code",
        "colab": {}
      },
      "source": [
        "import numpy as np\n",
        "x = np.zeros((2, 3))\n",
        "y=np.arange(2, 3, 0.1) # start, end, step\n",
        "z=np.linspace(1., 4., 6) # start, end, num\n",
        "w=np.indices((3, 3))\n",
        "\n",
        "print(x)\n",
        "print(y)\n",
        "print(x)\n",
        "print(w)"
      ],
      "execution_count": 0,
      "outputs": []
    },
    {
      "cell_type": "code",
      "metadata": {
        "id": "mP1HvbymLZqt",
        "colab_type": "code",
        "colab": {}
      },
      "source": [
        "import numpy as np\n",
        "x = np.zeros((2, 3))\n",
        "print(x)\n"
      ],
      "execution_count": 0,
      "outputs": []
    },
    {
      "cell_type": "code",
      "metadata": {
        "id": "qNHi7ClpLcO7",
        "colab_type": "code",
        "colab": {}
      },
      "source": [
        "import numpy as np\n",
        "\n",
        "y=np.arange(2, 3, 0.1) # start, end, step\n",
        "\n",
        "print(y)"
      ],
      "execution_count": 0,
      "outputs": []
    },
    {
      "cell_type": "code",
      "metadata": {
        "id": "Ec2ZPbQNLyIs",
        "colab_type": "code",
        "colab": {
          "base_uri": "https://localhost:8080/",
          "height": 34
        },
        "outputId": "988603ed-2d4f-4933-d6f7-9ecab161551e"
      },
      "source": [
        "import numpy as np\n",
        "\n",
        "z=np.linspace(1., 4., 6) # start, end, num\n",
        "\n",
        "print(z)"
      ],
      "execution_count": 18,
      "outputs": [
        {
          "output_type": "stream",
          "text": [
            "[1.  1.6 2.2 2.8 3.4 4. ]\n"
          ],
          "name": "stdout"
        }
      ]
    },
    {
      "cell_type": "markdown",
      "metadata": {
        "id": "G0mqWaKcONbb",
        "colab_type": "text"
      },
      "source": [
        "### 作業:下列輸出有何不同?\n",
        "\n",
        "```\n",
        "np.linspace(2.0, 3.0, num=5)\n",
        "\n",
        "np.linspace(2.0, 3.0, num=5, endpoint=False)\n",
        "\n",
        "np.linspace(2.0, 3.0, num=5, retstep=True)\n",
        "```\n",
        "\n",
        "參考資料:\n",
        "https://docs.scipy.org/doc/numpy/reference/generated/numpy.linspace.html\n"
      ]
    },
    {
      "cell_type": "code",
      "metadata": {
        "id": "5zcfh2y-PJ9L",
        "colab_type": "code",
        "colab": {}
      },
      "source": [
        "import numpy as np\n",
        "\n",
        "#z=np.linspace(1., 4., 6) # start, end, num\n",
        "#z=np.linspace(2.0, 3.0, num=5, endpoint=False)\n",
        "z=np.linspace(2.0, 3.0, num=5, retstep=True)\n",
        "\n",
        "print(z)"
      ],
      "execution_count": 0,
      "outputs": []
    },
    {
      "cell_type": "markdown",
      "metadata": {
        "id": "i1Xpt_ZBV2ay",
        "colab_type": "text"
      },
      "source": [
        "###  作業:\n",
        "\n",
        "```\n",
        "import numpy as np\n",
        "np.array([range(i, i + 3) for i in [2, 4, 6]])\n",
        "```"
      ]
    },
    {
      "cell_type": "markdown",
      "metadata": {
        "id": "cSIWd7RiQsuM",
        "colab_type": "text"
      },
      "source": [
        "## 屬性:"
      ]
    },
    {
      "cell_type": "code",
      "metadata": {
        "id": "U9B9uh_zQ1DL",
        "colab_type": "code",
        "colab": {}
      },
      "source": [
        "import numpy as np\n",
        "\n",
        "ar2=np.array([[0,3,5],[2,8,7]])\n",
        "\n",
        "ar2.shape"
      ],
      "execution_count": 0,
      "outputs": []
    },
    {
      "cell_type": "code",
      "metadata": {
        "id": "V3k3gtZXQ8vb",
        "colab_type": "code",
        "colab": {}
      },
      "source": [
        "ar2.ndim"
      ],
      "execution_count": 0,
      "outputs": []
    },
    {
      "cell_type": "markdown",
      "metadata": {
        "id": "HAt7-54gRsZ7",
        "colab_type": "text"
      },
      "source": [
        "# Ndarray的各種運算 1:Array shape manipulation\n",
        "```\n",
        "reshape()\n",
        "ravel():Flattening a multi-dimensional array\n",
        "\n",
        "\n",
        "```"
      ]
    },
    {
      "cell_type": "markdown",
      "metadata": {
        "id": "0dXsTKkmRwfz",
        "colab_type": "text"
      },
      "source": [
        "### reshape()"
      ]
    },
    {
      "cell_type": "code",
      "metadata": {
        "id": "s5PRE8i2R0OL",
        "colab_type": "code",
        "colab": {
          "base_uri": "https://localhost:8080/",
          "height": 34
        },
        "outputId": "e62b45aa-2156-4ffb-f9bc-588c024ccc3d"
      },
      "source": [
        "x = np.arange(4)\n",
        "x\n"
      ],
      "execution_count": 31,
      "outputs": [
        {
          "output_type": "execute_result",
          "data": {
            "text/plain": [
              "array([0, 1, 2, 3])"
            ]
          },
          "metadata": {
            "tags": []
          },
          "execution_count": 31
        }
      ]
    },
    {
      "cell_type": "code",
      "metadata": {
        "id": "HWpqnhzTSRbD",
        "colab_type": "code",
        "colab": {
          "base_uri": "https://localhost:8080/",
          "height": 34
        },
        "outputId": "f3487d71-ef84-46b4-adc5-a4d1589a4b5f"
      },
      "source": [
        "x.shape"
      ],
      "execution_count": 32,
      "outputs": [
        {
          "output_type": "execute_result",
          "data": {
            "text/plain": [
              "(4,)"
            ]
          },
          "metadata": {
            "tags": []
          },
          "execution_count": 32
        }
      ]
    },
    {
      "cell_type": "code",
      "metadata": {
        "id": "EHUfTOGISCIc",
        "colab_type": "code",
        "colab": {
          "base_uri": "https://localhost:8080/",
          "height": 85
        },
        "outputId": "8563b6dd-b57d-4bdb-dcb1-f5345f550ed4"
      },
      "source": [
        "x2 = x.reshape(4,1)\n",
        "x2"
      ],
      "execution_count": 29,
      "outputs": [
        {
          "output_type": "execute_result",
          "data": {
            "text/plain": [
              "array([[0],\n",
              "       [1],\n",
              "       [2],\n",
              "       [3]])"
            ]
          },
          "metadata": {
            "tags": []
          },
          "execution_count": 29
        }
      ]
    },
    {
      "cell_type": "code",
      "metadata": {
        "id": "6a6J6apvSZSz",
        "colab_type": "code",
        "colab": {
          "base_uri": "https://localhost:8080/",
          "height": 34
        },
        "outputId": "34093b0f-6f08-4c2e-e3c9-3e9c81f3f345"
      },
      "source": [
        "x2.shape"
      ],
      "execution_count": 33,
      "outputs": [
        {
          "output_type": "execute_result",
          "data": {
            "text/plain": [
              "(4, 1)"
            ]
          },
          "metadata": {
            "tags": []
          },
          "execution_count": 33
        }
      ]
    },
    {
      "cell_type": "markdown",
      "metadata": {
        "id": "yIdasDQkSrtT",
        "colab_type": "text"
      },
      "source": [
        "### 作業:\n",
        "```\n",
        "import numpy as np\n",
        "a=np.array([[0,1],[2,3]])\n",
        "a.reshape(1,4)\n",
        "a.reshape(4,1)\n",
        "```"
      ]
    },
    {
      "cell_type": "code",
      "metadata": {
        "id": "P3HWJ0o9Sz-U",
        "colab_type": "code",
        "colab": {
          "base_uri": "https://localhost:8080/",
          "height": 51
        },
        "outputId": "983e74b6-b0d8-4dd3-9afe-47a6a53a4d0b"
      },
      "source": [
        "import numpy as np\n",
        "\n",
        "a=np.array([[0,1],[2,3]])\n",
        "\n",
        "print(a)"
      ],
      "execution_count": 34,
      "outputs": [
        {
          "output_type": "stream",
          "text": [
            "[[0 1]\n",
            " [2 3]]\n"
          ],
          "name": "stdout"
        }
      ]
    },
    {
      "cell_type": "code",
      "metadata": {
        "id": "0x8hP2qvTLMK",
        "colab_type": "code",
        "colab": {
          "base_uri": "https://localhost:8080/",
          "height": 34
        },
        "outputId": "923d9059-bb9f-4ec7-e362-566d50011163"
      },
      "source": [
        "a.shape"
      ],
      "execution_count": 39,
      "outputs": [
        {
          "output_type": "execute_result",
          "data": {
            "text/plain": [
              "(2, 2)"
            ]
          },
          "metadata": {
            "tags": []
          },
          "execution_count": 39
        }
      ]
    },
    {
      "cell_type": "code",
      "metadata": {
        "id": "-k9sYxuxS6kr",
        "colab_type": "code",
        "colab": {
          "base_uri": "https://localhost:8080/",
          "height": 34
        },
        "outputId": "7d2c40d4-b7ae-46ce-c970-147214d006d3"
      },
      "source": [
        "b = a.reshape(1,4)\n",
        "b\n",
        "#b.shape"
      ],
      "execution_count": 42,
      "outputs": [
        {
          "output_type": "execute_result",
          "data": {
            "text/plain": [
              "array([[0, 1, 2, 3]])"
            ]
          },
          "metadata": {
            "tags": []
          },
          "execution_count": 42
        }
      ]
    },
    {
      "cell_type": "code",
      "metadata": {
        "id": "lahjc3blS-9y",
        "colab_type": "code",
        "colab": {
          "base_uri": "https://localhost:8080/",
          "height": 85
        },
        "outputId": "84164f12-3f00-4aba-c942-71f0c65af45a"
      },
      "source": [
        "c = a.reshape(4,1)\n",
        "c\n"
      ],
      "execution_count": 41,
      "outputs": [
        {
          "output_type": "execute_result",
          "data": {
            "text/plain": [
              "array([[0],\n",
              "       [1],\n",
              "       [2],\n",
              "       [3]])"
            ]
          },
          "metadata": {
            "tags": []
          },
          "execution_count": 41
        }
      ]
    },
    {
      "cell_type": "code",
      "metadata": {
        "id": "fabpLTcVTTBa",
        "colab_type": "code",
        "colab": {}
      },
      "source": [
        "c.shape"
      ],
      "execution_count": 0,
      "outputs": []
    },
    {
      "cell_type": "markdown",
      "metadata": {
        "id": "sPDJAQTgTz5j",
        "colab_type": "text"
      },
      "source": [
        "### 作業:底下輸出為何?\n",
        "```\n",
        "import numpy as np\n",
        "a=np.arange(2,10).reshape(2,4)\n",
        "x\n",
        "```\n",
        "```\n",
        "import numpy as np\n",
        "a=np.arange(2,10).reshape(4,2)\n",
        "x\n",
        "```"
      ]
    },
    {
      "cell_type": "markdown",
      "metadata": {
        "id": "6wQtYBZgUlMK",
        "colab_type": "text"
      },
      "source": [
        "### 作業:底下輸出為何?\n",
        "```\n",
        "import numpy as np\n",
        "\n",
        "a = np.arange(24).reshape(3,4,2)\n",
        "b = np.arange(24).reshape(4,3,2)\n",
        "\n",
        "print(a)\n",
        "print(b)\n",
        "```"
      ]
    },
    {
      "cell_type": "markdown",
      "metadata": {
        "id": "ZEqKDLOXXdgC",
        "colab_type": "text"
      },
      "source": [
        "## Ndarray的各種運算 2:"
      ]
    },
    {
      "cell_type": "markdown",
      "metadata": {
        "id": "6WYjeHpUXgVC",
        "colab_type": "text"
      },
      "source": [
        "## Ndarray的各種運算 3:"
      ]
    },
    {
      "cell_type": "markdown",
      "metadata": {
        "id": "QNvn4ViRXhgp",
        "colab_type": "text"
      },
      "source": [
        "## Ndarray的各種運算 4:"
      ]
    },
    {
      "cell_type": "markdown",
      "metadata": {
        "id": "w-bHdFo8Xiqh",
        "colab_type": "text"
      },
      "source": [
        "## Ndarray的各種運算 5:"
      ]
    },
    {
      "cell_type": "markdown",
      "metadata": {
        "id": "vd8HGxZgWOW6",
        "colab_type": "text"
      },
      "source": [
        "##  NumPy的效能比較好\n",
        "\n",
        "比較效能的Built-in magic commands: %timeit\n",
        "\n",
        "NumPy faster for this than Python\n",
        "\n"
      ]
    },
    {
      "cell_type": "markdown",
      "metadata": {
        "id": "aVGRWkELWxH6",
        "colab_type": "text"
      },
      "source": [
        "What is %timeit in python?\n",
        "https://stackoverflow.com/questions/29280470/what-is-timeit-in-python\n",
        "\n",
        "\n",
        "timeit — Measure execution time of small code snippets\n",
        "https://docs.python.org/3.7/library/timeit.html"
      ]
    },
    {
      "cell_type": "code",
      "metadata": {
        "id": "XfY8cSoLWMi7",
        "colab_type": "code",
        "colab": {
          "base_uri": "https://localhost:8080/",
          "height": 71
        },
        "outputId": "5e528968-ac93-42c7-f8a7-3442b50c18a9"
      },
      "source": [
        "ar=np.arange(1000)\n",
        "%timeit ar**3"
      ],
      "execution_count": 43,
      "outputs": [
        {
          "output_type": "stream",
          "text": [
            "The slowest run took 14.01 times longer than the fastest. This could mean that an intermediate result is being cached.\n",
            "100000 loops, best of 3: 3.44 µs per loop\n"
          ],
          "name": "stdout"
        }
      ]
    },
    {
      "cell_type": "code",
      "metadata": {
        "id": "tNcpqBUXWYIi",
        "colab_type": "code",
        "colab": {
          "base_uri": "https://localhost:8080/",
          "height": 34
        },
        "outputId": "3517116f-d06b-4b4a-8088-166fb2bff607"
      },
      "source": [
        "ar=range(1000)\n",
        "%timeit [ar[i]**3 for i in ar]"
      ],
      "execution_count": 44,
      "outputs": [
        {
          "output_type": "stream",
          "text": [
            "1000 loops, best of 3: 407 µs per loop\n"
          ],
          "name": "stdout"
        }
      ]
    }
  ]
}