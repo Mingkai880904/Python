{
  "nbformat": 4,
  "nbformat_minor": 0,
  "metadata": {
    "colab": {
      "name": "python 300_1.ipynb",
      "version": "0.3.2",
      "provenance": [],
      "include_colab_link": true
    },
    "kernelspec": {
      "name": "python2",
      "display_name": "Python 2"
    }
  },
  "cells": [
    {
      "cell_type": "markdown",
      "metadata": {
        "id": "view-in-github",
        "colab_type": "text"
      },
      "source": [
        "<a href=\"https://colab.research.google.com/github/Mingkai880904/python-practice/blob/master/python_300_1.ipynb\" target=\"_parent\"><img src=\"https://colab.research.google.com/assets/colab-badge.svg\" alt=\"Open In Colab\"/></a>"
      ]
    },
    {
      "metadata": {
        "id": "LO77OZvszpM3",
        "colab_type": "code",
        "colab": {}
      },
      "cell_type": "code",
      "source": [
        "#python練習\n",
        "import random \n",
        "\n",
        "# Generate random numbers\n",
        "number1 = random.randint(0, 9)\n",
        "number2 = random.randint(0, 9)\n",
        "\n",
        "# Prompt the user to enter an answer\n",
        "answer = eval(input(\"What is \" + str(number1) + \" + \" \n",
        "    + str(number2) + \"? \"))\n",
        "    \n",
        "# Display result    \n",
        "print(number1, \"+\", number2, \"=\", answer, \n",
        "    \"is\", number1 + number2 == answer)"
      ],
      "execution_count": 0,
      "outputs": []
    },
    {
      "metadata": {
        "id": "sHmueMYH3229",
        "colab_type": "text"
      },
      "cell_type": "markdown",
      "source": [
        "Ch4 範例4.1"
      ]
    }
  ]
}