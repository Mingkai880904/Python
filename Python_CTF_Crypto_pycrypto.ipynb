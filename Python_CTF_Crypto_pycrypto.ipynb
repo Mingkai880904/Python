{
  "nbformat": 4,
  "nbformat_minor": 0,
  "metadata": {
    "colab": {
      "name": "Python_CTF_Crypto_pycrypto.ipynb",
      "version": "0.3.2",
      "provenance": [],
      "include_colab_link": true
    },
    "kernelspec": {
      "name": "python2",
      "display_name": "Python 2"
    }
  },
  "cells": [
    {
      "cell_type": "markdown",
      "metadata": {
        "id": "view-in-github",
        "colab_type": "text"
      },
      "source": [
        "<a href=\"https://colab.research.google.com/github/MyDearGreatTeacher/HappyPythonDay/blob/master/Python_CTF_Crypto_pycrypto.ipynb\" target=\"_parent\"><img src=\"https://colab.research.google.com/assets/colab-badge.svg\" alt=\"Open In Colab\"/></a>"
      ]
    },
    {
      "cell_type": "markdown",
      "metadata": {
        "id": "ZlXa1no6NHMF",
        "colab_type": "text"
      },
      "source": [
        "# pycrypto\n",
        "\n",
        "https://pypi.org/project/pycrypto/\n",
        "\n",
        "git clone https://github.com/dlitz/pycrypto\n",
        "\n"
      ]
    },
    {
      "cell_type": "markdown",
      "metadata": {
        "id": "7lfyTQrPad3A",
        "colab_type": "text"
      },
      "source": [
        "#pycrypto模組支援的加密方式\n",
        "\n",
        "[1]對稱加密方式：\n",
        "\n",
        "\n",
        "```\n",
        "AES \n",
        "DES \n",
        "ARC4\n",
        "```\n",
        "\n",
        "[1]Hashing 雜湊值 散列值：\n",
        "```\n",
        "MD5 \n",
        "SHA \n",
        "HMAC\n",
        "```\n",
        "公開金鑰加密和簽名：\n",
        "```\n",
        "RSA \n",
        "DSA\n",
        "```"
      ]
    },
    {
      "cell_type": "markdown",
      "metadata": {
        "id": "282pV1r_ON1e",
        "colab_type": "text"
      },
      "source": [
        "# pycrypto安裝"
      ]
    },
    {
      "cell_type": "code",
      "metadata": {
        "id": "t6FysFMENGUe",
        "colab_type": "code",
        "outputId": "183a647d-5fca-4c2b-85f7-b91f438f6a3e",
        "colab": {
          "base_uri": "https://localhost:8080/",
          "height": 191
        }
      },
      "source": [
        "!pip install pycrypto"
      ],
      "execution_count": 2,
      "outputs": [
        {
          "output_type": "stream",
          "text": [
            "Collecting pycrypto\n",
            "\u001b[?25l  Downloading https://files.pythonhosted.org/packages/60/db/645aa9af249f059cc3a368b118de33889219e0362141e75d4eaf6f80f163/pycrypto-2.6.1.tar.gz (446kB)\n",
            "\u001b[K     |████████████████████████████████| 450kB 4.7MB/s \n",
            "\u001b[?25hBuilding wheels for collected packages: pycrypto\n",
            "  Building wheel for pycrypto (setup.py) ... \u001b[?25l\u001b[?25hdone\n",
            "  Stored in directory: /root/.cache/pip/wheels/27/02/5e/77a69d0c16bb63c6ed32f5386f33a2809c94bd5414a2f6c196\n",
            "Successfully built pycrypto\n",
            "Installing collected packages: pycrypto\n",
            "Successfully installed pycrypto-2.6.1\n"
          ],
          "name": "stdout"
        }
      ]
    },
    {
      "cell_type": "markdown",
      "metadata": {
        "id": "KdvjUT81mKUt",
        "colab_type": "text"
      },
      "source": [
        "# Hashing"
      ]
    },
    {
      "cell_type": "markdown",
      "metadata": {
        "id": "24F0fcdKZ7I0",
        "colab_type": "text"
      },
      "source": [
        "###  使用MD5\n",
        "\n",
        "https://blog.csdn.net/lxgwm2008/article/details/9287481"
      ]
    },
    {
      "cell_type": "code",
      "metadata": {
        "id": "F6H_wX9kZ8K2",
        "colab_type": "code",
        "outputId": "370ba74b-8a51-4726-96f5-44130d1ff4ac",
        "colab": {
          "base_uri": "https://localhost:8080/",
          "height": 35
        }
      },
      "source": [
        "from Crypto.Hash import MD5\n",
        "MD5.new('abc').hexdigest()"
      ],
      "execution_count": 0,
      "outputs": [
        {
          "output_type": "execute_result",
          "data": {
            "text/plain": [
              "'900150983cd24fb0d6963f7d28e17f72'"
            ]
          },
          "metadata": {
            "tags": []
          },
          "execution_count": 16
        }
      ]
    },
    {
      "cell_type": "markdown",
      "metadata": {
        "id": "oqK0vc8vOVBQ",
        "colab_type": "text"
      },
      "source": [
        "### 使用SHA"
      ]
    },
    {
      "cell_type": "code",
      "metadata": {
        "id": "5TSIsE6eN-m7",
        "colab_type": "code",
        "outputId": "c1105883-a838-44f1-a97e-bc276dfd77db",
        "colab": {
          "base_uri": "https://localhost:8080/",
          "height": 35
        }
      },
      "source": [
        "from Crypto.Hash import SHA256\n",
        "\n",
        "hash = SHA256.new()\n",
        "hash.update('message')\n",
        "\n",
        "hash.digest()"
      ],
      "execution_count": 0,
      "outputs": [
        {
          "output_type": "execute_result",
          "data": {
            "text/plain": [
              "'\\xabS\\n\\x13\\xe4Y\\x14\\x98+y\\xf9\\xb7\\xe3\\xfb\\xa9\\x94\\xcf\\xd1\\xf3\\xfb\"\\xf7\\x1c\\xea\\x1a\\xfb\\xf0+F\\x0cm\\x1d'"
            ]
          },
          "metadata": {
            "tags": []
          },
          "execution_count": 2
        }
      ]
    },
    {
      "cell_type": "markdown",
      "metadata": {
        "id": "cuyaIJj4mQVX",
        "colab_type": "text"
      },
      "source": [
        "# Public KEY"
      ]
    },
    {
      "cell_type": "markdown",
      "metadata": {
        "id": "dHtFOlGOcb3-",
        "colab_type": "text"
      },
      "source": [
        "### RSA"
      ]
    },
    {
      "cell_type": "code",
      "metadata": {
        "id": "HKsDzAUmcdtX",
        "colab_type": "code",
        "outputId": "cc0d1099-4176-4011-ce8d-d2738e9c4dd6",
        "colab": {
          "base_uri": "https://localhost:8080/",
          "height": 35
        }
      },
      "source": [
        "from Crypto.PublicKey import RSA\n",
        "from Crypto import Random\n",
        "\n",
        "random_generator = Random.new().read\n",
        "key = RSA.generate(1024, random_generator)\n",
        "key"
      ],
      "execution_count": 0,
      "outputs": [
        {
          "output_type": "execute_result",
          "data": {
            "text/plain": [
              "<_RSAobj @0x7ff38b9b52d8 n(1024),e,d,p,q,u,private>"
            ]
          },
          "metadata": {
            "tags": []
          },
          "execution_count": 21
        }
      ]
    },
    {
      "cell_type": "code",
      "metadata": {
        "id": "HBW17eOccpmE",
        "colab_type": "code",
        "outputId": "9f6681cd-a9e1-4dd6-c7cd-926a45d7a02e",
        "colab": {
          "base_uri": "https://localhost:8080/",
          "height": 35
        }
      },
      "source": [
        "key.can_encrypt()"
      ],
      "execution_count": 0,
      "outputs": [
        {
          "output_type": "execute_result",
          "data": {
            "text/plain": [
              "True"
            ]
          },
          "metadata": {
            "tags": []
          },
          "execution_count": 22
        }
      ]
    },
    {
      "cell_type": "code",
      "metadata": {
        "id": "ibwXF8xocuL6",
        "colab_type": "code",
        "outputId": "41187772-c487-4e97-ac0e-a8139364c5cc",
        "colab": {
          "base_uri": "https://localhost:8080/",
          "height": 35
        }
      },
      "source": [
        "key.can_sign()"
      ],
      "execution_count": 0,
      "outputs": [
        {
          "output_type": "execute_result",
          "data": {
            "text/plain": [
              "True"
            ]
          },
          "metadata": {
            "tags": []
          },
          "execution_count": 23
        }
      ]
    },
    {
      "cell_type": "code",
      "metadata": {
        "id": "POKiNZ5Ocw_c",
        "colab_type": "code",
        "outputId": "741aff4a-4f2c-4dce-90a5-271e79c54dbf",
        "colab": {
          "base_uri": "https://localhost:8080/",
          "height": 35
        }
      },
      "source": [
        " key.has_private()"
      ],
      "execution_count": 0,
      "outputs": [
        {
          "output_type": "execute_result",
          "data": {
            "text/plain": [
              "True"
            ]
          },
          "metadata": {
            "tags": []
          },
          "execution_count": 24
        }
      ]
    },
    {
      "cell_type": "code",
      "metadata": {
        "id": "dMzCLAokc0nz",
        "colab_type": "code",
        "colab": {}
      },
      "source": [
        "public_key = key.publickey()"
      ],
      "execution_count": 0,
      "outputs": []
    },
    {
      "cell_type": "code",
      "metadata": {
        "id": "NEGGAv2cc24y",
        "colab_type": "code",
        "outputId": "bf6130a6-dc9b-4dbf-9e1a-58e29ea914e6",
        "colab": {
          "base_uri": "https://localhost:8080/",
          "height": 35
        }
      },
      "source": [
        "public_key"
      ],
      "execution_count": 0,
      "outputs": [
        {
          "output_type": "execute_result",
          "data": {
            "text/plain": [
              "<_RSAobj @0x7ff38cacb908 n(1024),e>"
            ]
          },
          "metadata": {
            "tags": []
          },
          "execution_count": 26
        }
      ]
    },
    {
      "cell_type": "code",
      "metadata": {
        "id": "0O7AkfAAdAaf",
        "colab_type": "code",
        "outputId": "16615386-3f6c-49b5-83f6-510bbaab52e2",
        "colab": {
          "base_uri": "https://localhost:8080/",
          "height": 55
        }
      },
      "source": [
        "enc_data = public_key.encrypt('abcdefgh', 32)\n",
        "enc_data"
      ],
      "execution_count": 0,
      "outputs": [
        {
          "output_type": "execute_result",
          "data": {
            "text/plain": [
              "('\\xa1v\\xd1[\\xddD%\\xdd\\x0c]\\xfe\\xde\\xac\\xac\\xd2\\x84P\\x1bx\\x94<\\xf6\\x8bb\\xac\\xf2\\x92\\xe9\\xf1{I\\xf5\\xae\\xe8\\x885\\xa2U\\xeeo\\xf8\\xc2u\\xdd\\x15\\x92\\x13\\x1fCE\\x06:u\\xeb\\xb9\\x95\\xd8&p\\xf2Q\\x99\\xb2|\\xc7%\\xfe\\xc5\\r\\xa3\\xe5\\xe6k\\xbc\\xc1H\\xee\\xf5Ju\\xd5\\xf3\\xca\\x83<<\\xb0\\xf4\\x1d\\x81\\xa3\\xc8\\xa8\\x99\\xe4\\xc3:\\xf67\\xb2\\xa9\\xb4\\xd8X!\\xdd\\x95i\\xb3\\xadN\\x0f\\xe4\\xef\\xfc\\x9aI\\xc0\\xd9vg\\xf4R\\xe5\\xb0\\xe6\\xcd\\x8b',)"
            ]
          },
          "metadata": {
            "tags": []
          },
          "execution_count": 27
        }
      ]
    },
    {
      "cell_type": "code",
      "metadata": {
        "id": "IzvTWsafdHN8",
        "colab_type": "code",
        "outputId": "9e0a7fd8-6bad-42c4-ea68-3d563831bb6c",
        "colab": {
          "base_uri": "https://localhost:8080/",
          "height": 35
        }
      },
      "source": [
        "key.decrypt(enc_data)"
      ],
      "execution_count": 0,
      "outputs": [
        {
          "output_type": "execute_result",
          "data": {
            "text/plain": [
              "'abcdefgh'"
            ]
          },
          "metadata": {
            "tags": []
          },
          "execution_count": 28
        }
      ]
    },
    {
      "cell_type": "markdown",
      "metadata": {
        "id": "iC4c1jZ1mV85",
        "colab_type": "text"
      },
      "source": [
        "# 對稱式金鑰\n"
      ]
    },
    {
      "cell_type": "markdown",
      "metadata": {
        "id": "7XWbu6tabSp4",
        "colab_type": "text"
      },
      "source": [
        "# DES"
      ]
    },
    {
      "cell_type": "code",
      "metadata": {
        "id": "-WhC2o3vbUV_",
        "colab_type": "code",
        "colab": {}
      },
      "source": [
        "from Crypto.Cipher import DES\n",
        "\n",
        "des = DES.new('01234567', DES.MODE_ECB)\n",
        "\n",
        "text = 'BreakALLCTF{HappyHackingDay}'\n",
        "\n",
        "cipher_text = des.encrypt(text)\n",
        "\n",
        "cipher_text"
      ],
      "execution_count": 0,
      "outputs": []
    },
    {
      "cell_type": "code",
      "metadata": {
        "id": "m6w0Zs37brV9",
        "colab_type": "code",
        "outputId": "b4ce072f-7405-41da-d420-50be3aa66992",
        "colab": {
          "base_uri": "https://localhost:8080/",
          "height": 35
        }
      },
      "source": [
        "from Crypto.Cipher import DES\n",
        "\n",
        "des = DES.new('01234567', DES.MODE_ECB)\n",
        "\n",
        "text = 'abcdefgh'\n",
        "\n",
        "cipher_text = des.encrypt(text)\n",
        "\n",
        "cipher_text"
      ],
      "execution_count": 0,
      "outputs": [
        {
          "output_type": "execute_result",
          "data": {
            "text/plain": [
              "'\\xec\\xc2\\x9e\\xd9] a\\xd0'"
            ]
          },
          "metadata": {
            "tags": []
          },
          "execution_count": 18
        }
      ]
    },
    {
      "cell_type": "markdown",
      "metadata": {
        "id": "IOVECqssb3Gp",
        "colab_type": "text"
      },
      "source": [
        "### Stream ciphers\n",
        "\n",
        "https://blog.csdn.net/lxgwm2008/article/details/9287481"
      ]
    },
    {
      "cell_type": "code",
      "metadata": {
        "id": "hUruCXd-b4df",
        "colab_type": "code",
        "outputId": "4d7442a7-a7e5-4c03-bd3b-79e6a0aab642",
        "colab": {
          "base_uri": "https://localhost:8080/",
          "height": 35
        }
      },
      "source": [
        "from Crypto.Cipher import ARC4\n",
        "\n",
        "obj1 = ARC4.new('01234567')\n",
        "\n",
        "obj2 = ARC4.new('01234567')\n",
        "\n",
        "text = 'abcdefghijklmnop'\n",
        "\n",
        "cipher_text = obj1.encrypt(text)\n",
        "\n",
        "cipher_text"
      ],
      "execution_count": 0,
      "outputs": [
        {
          "output_type": "execute_result",
          "data": {
            "text/plain": [
              "'\\xf0\\xb7\\x90{#ABXY9\\xd06\\x9f\\xc0\\x8c '"
            ]
          },
          "metadata": {
            "tags": []
          },
          "execution_count": 19
        }
      ]
    },
    {
      "cell_type": "code",
      "metadata": {
        "id": "Ta47TugqcNYh",
        "colab_type": "code",
        "outputId": "ef3e4fed-1e08-4738-b4d0-31341d0aa425",
        "colab": {
          "base_uri": "https://localhost:8080/",
          "height": 35
        }
      },
      "source": [
        "obj2.decrypt(cipher_text)"
      ],
      "execution_count": 0,
      "outputs": [
        {
          "output_type": "execute_result",
          "data": {
            "text/plain": [
              "'abcdefghijklmnop'"
            ]
          },
          "metadata": {
            "tags": []
          },
          "execution_count": 20
        }
      ]
    },
    {
      "cell_type": "markdown",
      "metadata": {
        "id": "KJZlGZ12OcTf",
        "colab_type": "text"
      },
      "source": [
        "# AES加密與解密\n",
        "\n",
        "進階加密標準(Advanced Encryption Standard, AES\n",
        "在密碼學中又稱Rijndael加密法，是美國聯邦政府採用的一種區段加密標準。這個標準用來替代原先的DES，已經被多方分析且廣為全世界所使用。\n",
        "\n",
        "https://zh.wikipedia.org/zh-tw/%E9%AB%98%E7%BA%A7%E5%8A%A0%E5%AF%86%E6%A0%87%E5%87%86"
      ]
    },
    {
      "cell_type": "code",
      "metadata": {
        "id": "rLQ8GbuyOaMI",
        "colab_type": "code",
        "colab": {}
      },
      "source": [
        "from Crypto.Cipher import AES\n",
        "\n",
        "obj = AES.new('This is a key123', AES.MODE_CBC, 'This is an IV456')\n",
        "\n",
        "message = \"BreakALLCTF{happyHackingDay}\"\n",
        "\n",
        "ciphertext = obj.encrypt(message)\n",
        "\n",
        "ciphertext "
      ],
      "execution_count": 0,
      "outputs": []
    },
    {
      "cell_type": "code",
      "metadata": {
        "id": "Y0g5nb8_O6mR",
        "colab_type": "code",
        "colab": {}
      },
      "source": [
        "from Crypto.Cipher import AES\n",
        "\n",
        "obj = AES.new('This is a key123', AES.MODE_CBC, 'This is an IV456')\n",
        "\n",
        "message = \"The answer is no\"\n",
        "\n",
        "ciphertext = obj.encrypt(message)\n",
        "\n",
        "ciphertext "
      ],
      "execution_count": 0,
      "outputs": []
    },
    {
      "cell_type": "code",
      "metadata": {
        "id": "yVOi9etZPEfW",
        "colab_type": "code",
        "colab": {}
      },
      "source": [
        "obj2 = AES.new('This is a key123', AES.MODE_CBC, 'This is an IV456')\n",
        "obj2.decrypt(ciphertext)"
      ],
      "execution_count": 0,
      "outputs": []
    },
    {
      "cell_type": "markdown",
      "metadata": {
        "id": "jf3O81b5mmaG",
        "colab_type": "text"
      },
      "source": [
        "## PicoCTF_2017: ComputeAES\n",
        "\n",
        "```\n",
        "You found this clue laying around. Can you decrypt it?\n",
        "```\n",
        "\n",
        "```\n",
        "Encrypted with AES in ECB mode. All values base64 encoded\n",
        "ciphertext = rW4q3swEuIOEy8RTIp/DCMdNPtdYopSRXKSLYnX9NQe8z+LMsZ6Mx/x8pwGwofdZ\n",
        "key = 6v3TyEgjUcQRnWuIhjdTBA==\n",
        "```\n",
        "\n",
        "Hint:Try online tools or python"
      ]
    },
    {
      "cell_type": "markdown",
      "metadata": {
        "id": "uHJ5RCr6nGKj",
        "colab_type": "text"
      },
      "source": [
        "https://github.com/lflare/picoctf_2017_writeup/blob/master/cryptography/computeaes/decrypt.py"
      ]
    },
    {
      "cell_type": "code",
      "metadata": {
        "id": "7kWBHQNbmnMR",
        "colab_type": "code",
        "colab": {
          "base_uri": "https://localhost:8080/",
          "height": 34
        },
        "outputId": "e97cda1f-cf1e-49b1-cc3e-017ad01a11e9"
      },
      "source": [
        "#! /usr/bin/env python3\n",
        "##\n",
        "# Script for PicoCTF computeAES challenge\n",
        "# Created by Amos (LFlare) Ng\n",
        "##\n",
        "# Requires pycrypto\n",
        "import base64\n",
        "from Crypto.Cipher import AES\n",
        "\n",
        "key = base64.b64decode(\"6v3TyEgjUcQRnWuIhjdTBA==\")\n",
        "ciphertext = base64.b64decode(\"rW4q3swEuIOEy8RTIp/DCMdNPtdYopSRXKSLYnX9NQe8z+LMsZ6Mx/x8pwGwofdZ\")\n",
        "\n",
        "crypter = AES.new(key, AES.MODE_ECB)\n",
        "plaintext = crypter.decrypt(ciphertext).decode(\"utf-8\")\n",
        "\n",
        "print(plaintext)"
      ],
      "execution_count": 3,
      "outputs": [
        {
          "output_type": "stream",
          "text": [
            "flag{do_not_let_machines_win_983e8a2d}__________\n"
          ],
          "name": "stdout"
        }
      ]
    },
    {
      "cell_type": "markdown",
      "metadata": {
        "id": "DYzSlkPYPwIO",
        "colab_type": "text"
      },
      "source": [
        "# random number generator\n",
        "\n",
        "https://pypi.org/project/pycrypto/"
      ]
    },
    {
      "cell_type": "code",
      "metadata": {
        "id": "FoXWOi92Pxbc",
        "colab_type": "code",
        "outputId": "fd75a960-6f83-4159-953a-60639856f02f",
        "colab": {
          "base_uri": "https://localhost:8080/",
          "height": 35
        }
      },
      "source": [
        "from Crypto import Random\n",
        "rndfile = Random.new()\n",
        "rndfile.read(16)"
      ],
      "execution_count": 0,
      "outputs": [
        {
          "output_type": "execute_result",
          "data": {
            "text/plain": [
              "'\\xe0\\xaa\\xd8\\xfb\\x05\\xc6]v\\xb0\\xe5\\xdc\\xb5\\\\\\x88\\xeb\\xd9'"
            ]
          },
          "metadata": {
            "tags": []
          },
          "execution_count": 7
        }
      ]
    },
    {
      "cell_type": "code",
      "metadata": {
        "id": "px6cQ5ASQHuP",
        "colab_type": "code",
        "outputId": "bf6acdfa-4aaf-46f1-df0d-1795525a5431",
        "colab": {
          "base_uri": "https://localhost:8080/",
          "height": 35
        }
      },
      "source": [
        "from Crypto.Random import random\n",
        "random.choice(['dogs', 'cats', 'bears'])"
      ],
      "execution_count": 0,
      "outputs": [
        {
          "output_type": "execute_result",
          "data": {
            "text/plain": [
              "'dogs'"
            ]
          },
          "metadata": {
            "tags": []
          },
          "execution_count": 8
        }
      ]
    },
    {
      "cell_type": "markdown",
      "metadata": {
        "id": "O_RD1PtNY_eD",
        "colab_type": "text"
      },
      "source": [
        "#  3DES"
      ]
    },
    {
      "cell_type": "code",
      "metadata": {
        "id": "71DxP3pEZCph",
        "colab_type": "code",
        "colab": {}
      },
      "source": [
        "# -*- Encoding: utf-8 -*-\n",
        "\n",
        "from Crypto.Cipher import DES3\n",
        "\n",
        "\n",
        "BS = DES3.block_size\n",
        "\n",
        "pad = lambda s: s + (BS - len(s) % BS) * chr(BS - len(s) % BS)\n",
        "unpad = lambda s : s[0:-ord(s[-1])]\n",
        "\n",
        "key = 'a' * 16\n",
        "text = 'Hello, there!'\n",
        "\n",
        "cipher = DES3.new(key, DES3.MODE_ECB)\n",
        "\n",
        "encrypted_text = cipher.encrypt(pad(text))\n",
        "decrypted_text = unpad(cipher.decrypt(encrypted_text))\n",
        "\n",
        "assert text == decrypted_text\n",
        "\n"
      ],
      "execution_count": 0,
      "outputs": []
    },
    {
      "cell_type": "code",
      "metadata": {
        "id": "oUsUbD2DZPZ7",
        "colab_type": "code",
        "outputId": "149eaf32-ad55-4ceb-cf57-c4672fdd26dc",
        "colab": {
          "base_uri": "https://localhost:8080/",
          "height": 35
        }
      },
      "source": [
        "encrypted_text"
      ],
      "execution_count": 0,
      "outputs": [
        {
          "output_type": "execute_result",
          "data": {
            "text/plain": [
              "'\\x883x\\xf9\\xbd/u/#\\x11\\xb2s\\xb7\\x94\\xae\\\\'"
            ]
          },
          "metadata": {
            "tags": []
          },
          "execution_count": 14
        }
      ]
    },
    {
      "cell_type": "code",
      "metadata": {
        "id": "EEa9Q4gYZLrX",
        "colab_type": "code",
        "outputId": "4df764b9-1881-404e-f90e-f7901ede94ce",
        "colab": {
          "base_uri": "https://localhost:8080/",
          "height": 35
        }
      },
      "source": [
        "decrypted_text"
      ],
      "execution_count": 0,
      "outputs": [
        {
          "output_type": "execute_result",
          "data": {
            "text/plain": [
              "'Hello, there!'"
            ]
          },
          "metadata": {
            "tags": []
          },
          "execution_count": 15
        }
      ]
    },
    {
      "cell_type": "markdown",
      "metadata": {
        "id": "PpV23fX5Xcgy",
        "colab_type": "text"
      },
      "source": [
        "#  範例\n",
        "\n",
        "https://blog.csdn.net/werewolf_st/article/details/45935913"
      ]
    },
    {
      "cell_type": "code",
      "metadata": {
        "id": "0-shBDiqXSMe",
        "colab_type": "code",
        "outputId": "30ab67df-9cd3-4175-8c82-221375b02b4f",
        "colab": {
          "base_uri": "https://localhost:8080/",
          "height": 69
        }
      },
      "source": [
        "# !/usr/bin/env python\n",
        "# coding: utf-8\n",
        "'''\n",
        "\n",
        "'''\n",
        "\n",
        "from Crypto.Cipher import AES\n",
        "from binascii import b2a_hex, a2b_hex\n",
        "\n",
        "class MyCrypt():\n",
        "    def __init__(self, key):\n",
        "        self.key = key\n",
        "        self.mode = AES.MODE_CBC\n",
        "\n",
        "    def myencrypt(self, text):\n",
        "        length = 16\n",
        "        count = len(text)\n",
        "        print count\n",
        "        if count < length:\n",
        "            add = length - count\n",
        "            text= text + ('\\0' * add)\n",
        "\n",
        "        elif count > length:\n",
        "            add = (length -(count % length))\n",
        "            text= text + ('\\0' * add)\n",
        "\n",
        "        # print len(text)\n",
        "        cryptor = AES.new(self.key, self.mode, b'0000000000000000')\n",
        "        self.ciphertext = cryptor.encrypt(text)\n",
        "        return b2a_hex(self.ciphertext)\n",
        "\n",
        "    def mydecrypt(self, text):\n",
        "        cryptor = AES.new(self.key, self.mode, b'0000000000000000')\n",
        "        plain_text = cryptor.decrypt(a2b_hex(text))\n",
        "        return plain_text.rstrip('\\0')\n",
        "\n",
        "if __name__ == '__main__':\n",
        "    mycrypt = MyCrypt('abcdefghjklmnopq')\n",
        "    e = mycrypt.myencrypt('hello,world!')\n",
        "    d = mycrypt.mydecrypt(e)\n",
        "    print e\n",
        "    print d\n"
      ],
      "execution_count": 0,
      "outputs": [
        {
          "output_type": "stream",
          "text": [
            "12\n",
            "51296b171cfb57262f16a9ce3b68ec31\n",
            "hello,world!\n"
          ],
          "name": "stdout"
        }
      ]
    },
    {
      "cell_type": "markdown",
      "metadata": {
        "id": "7Rbt9ha2Zmz_",
        "colab_type": "text"
      },
      "source": [
        "#\n",
        "\n",
        "\n",
        "\n",
        "```\n",
        "# PyCrypto 'cryptmsg.py' Buffer Overflow Vulnerability\n",
        "\n",
        "Bugtraq ID:\t95122\n",
        "Class:\tBoundary Condition Error\n",
        "CVE:\tCVE-2013-7459\n",
        "Remote:\tYes\n",
        "Local:\tNo\n",
        "Published:\tDec 26 2016 12:00AM\n",
        "Updated:\tMar 07 2017 02:06AM\n",
        "Credit:\tLeo Famulari.\n",
        "Vulnerable:\tUbuntu Ubuntu Linux 16.10\n",
        "Ubuntu Ubuntu Linux 16.04 LTS\n",
        "Python Software Foundation Python 3.4.3 \n",
        "Python Software Foundation Python 2.7.10 \n",
        "Gentoo Linux \n",
        "Dwayne C. Litzenberger PyCrypto 2.6.1 此内容为代码格式\n",
        "```\n",
        "\n"
      ]
    }
  ]
}