{
  "nbformat": 4,
  "nbformat_minor": 0,
  "metadata": {
    "colab": {
      "name": "Python_CTF_Encode_and_decode.ipynb",
      "version": "0.3.2",
      "provenance": [],
      "include_colab_link": true
    },
    "kernelspec": {
      "name": "python2",
      "display_name": "Python 2"
    }
  },
  "cells": [
    {
      "cell_type": "markdown",
      "metadata": {
        "id": "view-in-github",
        "colab_type": "text"
      },
      "source": [
        "<a href=\"https://colab.research.google.com/github/MyDearGreatTeacher/HappyPythonDay/blob/master/Python_CTF_Encode_and_decode.ipynb\" target=\"_parent\"><img src=\"https://colab.research.google.com/assets/colab-badge.svg\" alt=\"Open In Colab\"/></a>"
      ]
    },
    {
      "cell_type": "markdown",
      "metadata": {
        "id": "qrBh3frvE7WG",
        "colab_type": "text"
      },
      "source": [
        "# Python實戰 CTF"
      ]
    },
    {
      "cell_type": "markdown",
      "metadata": {
        "id": "eGAGCnDrilJ8",
        "colab_type": "text"
      },
      "source": [
        "## 參考解答\n",
        "\n",
        "https://r3dcr3sc3nt.github.io/AlexCTF-2017.html"
      ]
    },
    {
      "cell_type": "markdown",
      "metadata": {
        "id": "1T05LDmVq5kX",
        "colab_type": "text"
      },
      "source": [
        "# 編碼與解碼101"
      ]
    },
    {
      "cell_type": "markdown",
      "metadata": {
        "id": "0oe1-dYkrFQx",
        "colab_type": "text"
      },
      "source": [
        "## ASCII Code--- Python"
      ]
    },
    {
      "cell_type": "code",
      "metadata": {
        "id": "EYLxFnsHrL1T",
        "colab_type": "code",
        "colab": {
          "base_uri": "https://localhost:8080/",
          "height": 34
        },
        "outputId": "53f94ab8-d615-477f-deaa-2cc8d2452cb0"
      },
      "source": [
        "#!/usr/bin/python\n",
        "\n",
        "c = '66 114 101 97 107 65 76 76 67 84 70 123 65 109 118 48 117 68 121 101 114 118 80 116 109 86 114 57 83 83 83 75 125'\n",
        "\n",
        "flag = \"\"\n",
        "\n",
        "for _ in c.split(' '):\n",
        "  flag += chr(int(_))\n",
        "\n",
        "print flag"
      ],
      "execution_count": 3,
      "outputs": [
        {
          "output_type": "stream",
          "text": [
            "BreakALLCTF{Amv0uDyervPtmVr9SSSK}\n"
          ],
          "name": "stdout"
        }
      ]
    },
    {
      "cell_type": "code",
      "metadata": {
        "id": "P3OpzCtYwrIK",
        "colab_type": "code",
        "colab": {
          "base_uri": "https://localhost:8080/",
          "height": 34
        },
        "outputId": "aff15a0c-e933-44df-d9b2-dd6713ec0f20"
      },
      "source": [
        "#!/usr/bin/python\n",
        "\n",
        "c = '66 114 101 97 107 65 76 76 67 84 70 123 65 109 118 48 117 68 121 101 114 118 80 116 109 86 114 57 83 83 83 75 125'\n",
        "\n",
        "flag = \"\"\n",
        "\n",
        "for x in c.split(' '):\n",
        "  flag += chr(int(x))\n",
        "\n",
        "print(flag)"
      ],
      "execution_count": 12,
      "outputs": [
        {
          "output_type": "stream",
          "text": [
            "BreakALLCTF{Amv0uDyervPtmVr9SSSK}\n"
          ],
          "name": "stdout"
        }
      ]
    },
    {
      "cell_type": "markdown",
      "metadata": {
        "id": "B1UTn1SLq9aj",
        "colab_type": "text"
      },
      "source": [
        "# 編碼與解碼102"
      ]
    },
    {
      "cell_type": "markdown",
      "metadata": {
        "id": "-zCa1u7w_TiG",
        "colab_type": "text"
      },
      "source": [
        "# angstromCTF 2016 : what-the-hex 20\n"
      ]
    },
    {
      "cell_type": "code",
      "metadata": {
        "id": "Km-wXe382mkT",
        "colab_type": "code",
        "outputId": "c634fbfc-3efb-45df-a920-0970c2a03999",
        "colab": {
          "base_uri": "https://localhost:8080/",
          "height": 34
        }
      },
      "source": [
        "import base64\n",
        "'6236343a20615735305a584a755a58526659323975646d567963326c76626c3930623239736331397962324e72'.decode(\"hex\")"
      ],
      "execution_count": 7,
      "outputs": [
        {
          "output_type": "execute_result",
          "data": {
            "text/plain": [
              "'b64: aW50ZXJuZXRfY29udmVyc2lvbl90b29sc19yb2Nr'"
            ]
          },
          "metadata": {
            "tags": []
          },
          "execution_count": 7
        }
      ]
    },
    {
      "cell_type": "code",
      "metadata": {
        "id": "nZv3VdOr2q-n",
        "colab_type": "code",
        "outputId": "6c195b0b-d19d-4033-83a9-707303fefaad",
        "colab": {
          "base_uri": "https://localhost:8080/",
          "height": 34
        }
      },
      "source": [
        "base64.b64decode('aW50ZXJuZXRfY29udmVyc2lvbl90b29sc19yb2Nr')"
      ],
      "execution_count": 8,
      "outputs": [
        {
          "output_type": "execute_result",
          "data": {
            "text/plain": [
              "'internet_conversion_tools_rock'"
            ]
          },
          "metadata": {
            "tags": []
          },
          "execution_count": 8
        }
      ]
    },
    {
      "cell_type": "markdown",
      "metadata": {
        "id": "E43NVELsAsOr",
        "colab_type": "text"
      },
      "source": [
        "# SECCON CTF 2014: Easy Cipher \n",
        "\n",
        "https://github.com/S42X/CTF/blob/master/SECCON/EasyCipher.md"
      ]
    },
    {
      "cell_type": "code",
      "metadata": {
        "id": "w_JOW3wm5_KG",
        "colab_type": "code",
        "outputId": "3ef7aa30-51ab-40c7-8339-538fb200097a",
        "colab": {
          "base_uri": "https://localhost:8080/",
          "height": 34
        }
      },
      "source": [
        "ord('a')\n"
      ],
      "execution_count": 0,
      "outputs": [
        {
          "output_type": "execute_result",
          "data": {
            "text/plain": [
              "97"
            ]
          },
          "metadata": {
            "tags": []
          },
          "execution_count": 13
        }
      ]
    },
    {
      "cell_type": "code",
      "metadata": {
        "id": "FIut29yx_qrZ",
        "colab_type": "code",
        "outputId": "bcac3484-36b6-456b-c448-10b229a94566",
        "colab": {
          "base_uri": "https://localhost:8080/",
          "height": 34
        }
      },
      "source": [
        "oct(10)\n"
      ],
      "execution_count": 0,
      "outputs": [
        {
          "output_type": "execute_result",
          "data": {
            "text/plain": [
              "'012'"
            ]
          },
          "metadata": {
            "tags": []
          },
          "execution_count": 36
        }
      ]
    },
    {
      "cell_type": "code",
      "metadata": {
        "id": "_BEunk04AY3E",
        "colab_type": "code",
        "outputId": "86d1d5ec-90ca-46aa-8de5-4be0c6ef1b04",
        "colab": {
          "base_uri": "https://localhost:8080/",
          "height": 34
        }
      },
      "source": [
        "hex(10)"
      ],
      "execution_count": 0,
      "outputs": [
        {
          "output_type": "execute_result",
          "data": {
            "text/plain": [
              "'0xa'"
            ]
          },
          "metadata": {
            "tags": []
          },
          "execution_count": 37
        }
      ]
    },
    {
      "cell_type": "markdown",
      "metadata": {
        "id": "9wneMPSUvJqi",
        "colab_type": "text"
      },
      "source": [
        "https://www.quora.com/How-do-I-convert-hex-into-a-string-using-Python\n",
        "\n",
        "https://stackoverflow.com/questions/18806772/most-pythonic-way-to-convert-a-string-to-a-octal-number\n",
        "\n",
        "http://mini-stable.blogspot.com/2015/03/python-int-hex-char-string.html"
      ]
    },
    {
      "cell_type": "markdown",
      "metadata": {
        "id": "Q4fpzzPLvjIJ",
        "colab_type": "text"
      },
      "source": [
        "### Python - int, hex, char, string的轉換\n",
        "\n",
        "```\n",
        "Int to Hex:   hex(97)  # '0x61'\n",
        "Int to Char:   chr(97)  # 'a'\n",
        "Int to String:  str(97)  # '97'\n",
        "Hex to int:  int('0x61', 16)  # 97\n",
        "Hex to Char:   chr(int('0x61', 16)) # 'a'\n",
        "Hex to String:\n",
        "string = '61626364'\n",
        "''.join(chr(int(string[i:i+2], 16)) for i in range(0, len(string), 2))  # 'abcd'\n",
        "```\n",
        "```\n",
        "Char to Int: ord('a')  # 97\n",
        "Char to Hex: hex(ord('a'))  # '0x61'\n",
        "String to Int: int('97')  # 97\n",
        "String to Hex:\n",
        "\n",
        "string = 'abcd'\n",
        "''.join([hex(ord(x))[2:] for x in string])  # '61626364'\n",
        "```"
      ]
    },
    {
      "cell_type": "code",
      "metadata": {
        "id": "k5t_ONmlvH35",
        "colab_type": "code",
        "colab": {
          "base_uri": "https://localhost:8080/",
          "height": 34
        },
        "outputId": "0fddbe0f-6856-4f2d-9a0d-f492d4975dbc"
      },
      "source": [
        "string = '61626364'\n",
        "''.join(chr(int(string[i:i+2], 16)) for i in range(0, len(string), 2))  # 'abcd'"
      ],
      "execution_count": 9,
      "outputs": [
        {
          "output_type": "execute_result",
          "data": {
            "text/plain": [
              "'abcd'"
            ]
          },
          "metadata": {
            "tags": []
          },
          "execution_count": 9
        }
      ]
    },
    {
      "cell_type": "markdown",
      "metadata": {
        "id": "OBsLIEeiA_YW",
        "colab_type": "text"
      },
      "source": [
        "### binascii\n",
        "\n",
        "https://docs.python.org/2/library/binascii.html"
      ]
    },
    {
      "cell_type": "code",
      "metadata": {
        "id": "rwK9MwzkAbA3",
        "colab_type": "code",
        "outputId": "0a6b2ced-7622-4664-acc3-5a97cc6def09",
        "colab": {
          "base_uri": "https://localhost:8080/",
          "height": 51
        }
      },
      "source": [
        "#coding:utf-8\n",
        "import binascii\n",
        "a = 'HappyCTF{Useful tools binascii}'\n",
        "b = binascii.b2a_hex(a)\n",
        "print b\n",
        "print binascii.a2b_hex(b)\n"
      ],
      "execution_count": 0,
      "outputs": [
        {
          "output_type": "stream",
          "text": [
            "48617070794354467b55736566756c20746f6f6c732062696e61736369697d\n",
            "HappyCTF{Useful tools binascii}\n"
          ],
          "name": "stdout"
        }
      ]
    },
    {
      "cell_type": "code",
      "metadata": {
        "id": "SUw5YCgv4xob",
        "colab_type": "code",
        "outputId": "af25a83c-990a-4cea-d5ec-552c370514e8",
        "colab": {
          "base_uri": "https://localhost:8080/",
          "height": 54
        }
      },
      "source": [
        "#!/usr/bin/python\n",
        "\n",
        "c = '87 101 108 1100011 0157 6d 0145 040 116 0157 100000 0164 104 1100101 32 0123 69 67 0103 1001111 \\\n",
        "     1001110 040 062 060 49 064 100000 0157 110 6c 0151 1101110 101 040 0103 1010100 70 101110 0124 \\\n",
        "     1101000 101 100000 1010011 1000101 67 0103 4f 4e 100000 105 1110011 040 116 1101000 0145 040 \\\n",
        "     1100010 0151 103 103 0145 1110011 0164 100000 1101000 0141 99 6b 1100101 0162 32 0143 111 1101110\\\n",
        "     1110100 101 0163 0164 040 0151 0156 040 74 0141 1110000 1100001 0156 056 4f 0157 0160 115 44 040\\\n",
        "     0171 1101111 117 100000 1110111 0141 0156 1110100 32 0164 6f 32 6b 1101110 1101111 1110111 100000\\\n",
        "     0164 1101000 0145 040 0146 6c 97 1100111 2c 100000 0144 111 110 100111 116 100000 1111001 6f 117\\\n",
        "     63 0110 1100101 0162 0145 100000 1111001 111 117 100000 97 114 0145 46 1010011 0105 0103 67 79\\\n",
        "     1001110 123 87 110011 110001 67 110000 1001101 32 55 060 100000 110111 0110 110011 32 53 51 0103\\\n",
        "     0103 060 0116 040 5a 0117 73 0101 7d 1001000 0141 1110110 1100101 100000 102 0165 0156 33'\n",
        "     \n",
        "flag = \"\"\n",
        "for _ in c.split(' '):\n",
        "  if len(_) == 2 and _[1:].isalpha(): #HEX\n",
        "    flag += _.decode('hex')\n",
        "  if (len(_) == 2 and not _[1:].isalpha()) or (len(_) == 3 and int(_[0]) != 0): #DEC\n",
        "    flag += chr(int(_))\n",
        "  if len(_) == 4 or (len(_) == 3 and int(_[0]) == 0) : #OCT\n",
        "    flag += chr(int(_, 8))\n",
        "  if len(_) > 4: #BIN\n",
        "    flag += binascii.unhexlify('%x' % int(_,2))\n",
        "print flag"
      ],
      "execution_count": 0,
      "outputs": [
        {
          "output_type": "stream",
          "text": [
            "Welcome to the SECCON 2014 online CTF.The SECCON is the biggest hacker contest in Japan.Oops, you want to know the flag, don't you?Here you are.SECCON{W31C0M 70 7H3 53CC0N ZOIA}Have fun!\n"
          ],
          "name": "stdout"
        }
      ]
    },
    {
      "cell_type": "markdown",
      "metadata": {
        "id": "WvX0oagbrbyH",
        "colab_type": "text"
      },
      "source": [
        "## alexctf-2017: CR1: Ultracoded 50"
      ]
    },
    {
      "cell_type": "code",
      "metadata": {
        "id": "yiRwEDNYRBAa",
        "colab_type": "code",
        "colab": {}
      },
      "source": [
        "! wget https://raw.githubusercontent.com/ctfs/write-ups-2017/master/alexctf-2017/cryptography/cr1-ultracoded-50/zero_one"
      ],
      "execution_count": 0,
      "outputs": []
    },
    {
      "cell_type": "code",
      "metadata": {
        "id": "vFNoeTMbCWN2",
        "colab_type": "code",
        "colab": {}
      },
      "source": [
        "!pip install pwntools"
      ],
      "execution_count": 0,
      "outputs": []
    },
    {
      "cell_type": "code",
      "metadata": {
        "id": "kPwJ4ySzCjns",
        "colab_type": "code",
        "colab": {}
      },
      "source": [
        "!pip install morse_talk"
      ],
      "execution_count": 0,
      "outputs": []
    },
    {
      "cell_type": "code",
      "metadata": {
        "id": "mu7qWx3KDJLf",
        "colab_type": "code",
        "outputId": "bae9672a-8b75-48a1-d92f-ae425e73c743",
        "colab": {
          "base_uri": "https://localhost:8080/",
          "height": 88
        }
      },
      "source": [
        "#!/usr/bin/env python\n",
        "\n",
        "import binascii\n",
        "import base64\n",
        "import morse_talk as mtalk\n",
        "\n",
        "with open('./zero_one', 'r') as content_file:\n",
        "    bin_text = content_file.read()\n",
        "\n",
        "bin_text = bin_text.replace(\"ZERO\",\"0\")\n",
        "bin_text = bin_text.replace(\"ONE\",\"1\")\n",
        "bin_text = bin_text.replace(\" \",\"\")\n",
        "bin_text = bin_text.strip()\n",
        "\n",
        "print \"Binary : \"+ bin_text\n",
        "b64 = ''.join(chr(int(bin_text[i:i+8], 2)) for i in range(0, len(bin_text), 8))\n",
        "print \"Base 64 : \"+ b64\n",
        "print \"morse : \" + base64.b64decode(b64).decode('utf-8')"
      ],
      "execution_count": 0,
      "outputs": [
        {
          "output_type": "stream",
          "text": [
            "Binaire : 0100110001101001001100000110011101001100011010010011000001110101010011000110100101000001011101010100100101000011001100000111010101001100011010010011000001100111010011000101001100110100011101000100110001101001010000010111010001001001010000110011010001110101010011000101001100110100011001110100110001010011010000010111010101001100011010010011010001110101010010010100001100110100011101000100110001010011001100000111010001001001010000110011010001110101010011000110100100110100011101010100100101000011001100000111010001001100010100110100000101110101010011000101001100110000011101000100110001010011010000010111010101001100011010010011010001100111010011000101001100110000011101000100100101000011001101000111010101001100011010010011010001110101010010010100001100110100011101010100110001010011010000010111010101001100010100110011000001110101010010010100001100110100011101010100110001101001001100000111010001001001010000110011010001110100010011000110100101000001011101000100110001010011001100000110011101001100011010010011010001110101010011000110100100110100011001110100110001101001010000010111010001001100011010010011000001110101010010010100001100110100011101000100110001101001010000010111010101001100011010010011010001110100010011000101001101000001011101000100100101000011001100000111010001001100010100110100000101110100010010010100001100110000011101010100110001101001001100000110011101001100010100010011110100111101\n",
            "Base 64 : Li0gLi0uLiAuIC0uLi0gLS4tLiAtIC4uLS4gLSAuLi4uIC4tLS0tIC4uLi4uIC0tLSAuLS0tLSAuLi4gLS0tIC4uLi4uIC4uLSAuLS0uIC4uLi0tIC4tLiAtLS0gLi4uLi4gLiAtLi0uIC4tLiAuLi4tLSAtIC0tLSAtIC0uLi0gLQ==\n",
            "morse : .- .-.. . -..- -.-. - ..-. - .... .---- ..... --- .---- ... --- ..... ..- .--. ...-- .-. --- ..... . -.-. .-. ...-- - --- - -..- -\n"
          ],
          "name": "stdout"
        }
      ]
    },
    {
      "cell_type": "code",
      "metadata": {
        "id": "mmWxoZDgD0Lv",
        "colab_type": "code",
        "outputId": "ad0573b0-1105-43f1-e498-b8944c82c072",
        "colab": {
          "base_uri": "https://localhost:8080/",
          "height": 34
        }
      },
      "source": [
        "mtalk.decode(base64.b64decode(b64).decode('utf-8'))"
      ],
      "execution_count": 0,
      "outputs": [
        {
          "output_type": "execute_result",
          "data": {
            "text/plain": [
              "'ALEXCTFTH15O1SO5UP3RO5ECR3TOTXT'"
            ]
          },
          "metadata": {
            "tags": []
          },
          "execution_count": 46
        }
      ]
    },
    {
      "cell_type": "markdown",
      "metadata": {
        "id": "hh_T3ExXr1gt",
        "colab_type": "text"
      },
      "source": [
        "# Internetwache CTF 2016 : The hidden message"
      ]
    },
    {
      "cell_type": "markdown",
      "metadata": {
        "id": "upOuc6RbsGEe",
        "colab_type": "text"
      },
      "source": [
        "```\n",
        "0000000 126 062 126 163 142 103 102 153 142 062 065 154 111 121 157 113\n",
        "0000020 122 155 170 150 132 172 157 147 123 126 144 067 124 152 102 146\n",
        "0000040 115 107 065 154 130 062 116 150 142 154 071 172 144 104 102 167\n",
        "0000060 130 063 153 167 144 130 060 113 012\n",
        "0000071\n",
        "```"
      ]
    },
    {
      "cell_type": "markdown",
      "metadata": {
        "id": "f8nWFp_0tN3n",
        "colab_type": "text"
      },
      "source": [
        "http://rektsec.github.io/writeups/ctf/internetwatche-2016-ctf-the-hidden-message-misc-50/"
      ]
    },
    {
      "cell_type": "markdown",
      "metadata": {
        "id": "MirCOfxStVan",
        "colab_type": "text"
      },
      "source": [
        "## 第一種解法\n",
        "\n",
        "http://www.unit-conversion.info/texttools/octal/\n",
        "\n",
        "V2VsbCBkb25lIQoKRmxhZzogSVd7TjBfMG5lX2Nhbl9zdDBwX3kwdX0K"
      ]
    },
    {
      "cell_type": "code",
      "metadata": {
        "id": "3shq-HgCtkxx",
        "colab_type": "code",
        "colab": {
          "base_uri": "https://localhost:8080/",
          "height": 51
        },
        "outputId": "d3d0f8d1-ec0f-4717-9dfb-9c899d816f7d"
      },
      "source": [
        "import base64\n",
        "\n",
        "encoded_data = b'V2VsbCBkb25lIQoKRmxhZzogSVd7TjBfMG5lX2Nhbl9zdDBwX3kwdX0K'\n",
        "decoded_data = base64.b64decode(encoded_data)\n",
        "print('Encoded :', encoded_data)\n",
        "print('Decoded :', decoded_data)"
      ],
      "execution_count": 6,
      "outputs": [
        {
          "output_type": "stream",
          "text": [
            "('Encoded :', 'V2VsbCBkb25lIQoKRmxhZzogSVd7TjBfMG5lX2Nhbl9zdDBwX3kwdX0K')\n",
            "('Decoded :', 'Well done!\\n\\nFlag: IW{N0_0ne_can_st0p_y0u}\\n')\n"
          ],
          "name": "stdout"
        }
      ]
    },
    {
      "cell_type": "markdown",
      "metadata": {
        "id": "7koCrhI0thnD",
        "colab_type": "text"
      },
      "source": [
        "## 第二種解法"
      ]
    },
    {
      "cell_type": "code",
      "metadata": {
        "id": "j9j_5dHBsj5u",
        "colab_type": "code",
        "colab": {
          "base_uri": "https://localhost:8080/",
          "height": 51
        },
        "outputId": "7a31baac-e2f3-4bcb-ea21-0214a79b41e5"
      },
      "source": [
        "#!/usr/bin/python\n",
        "\n",
        "c = '126 062 126 163 142 103 102 153 142 062 065 154 111 121 157 113 122 155 170 150 132 172 157 147 123 126 144 067 124 152 102 146 115 107 065 154 130 062 116 150 142 154 071 172 144 104 102 167 130 063 153 167 144 130 060 113 012'\n",
        "\n",
        "flag = \"\"\n",
        "\n",
        "for _ in c.split(' '):\n",
        "  flag += chr(int(_,8))\n",
        "\n",
        "print(flag)"
      ],
      "execution_count": 10,
      "outputs": [
        {
          "output_type": "stream",
          "text": [
            "V2VsbCBkb25lIQoKRmxhZzogSVd7TjBfMG5lX2Nhbl9zdDBwX3kwdX0K\n",
            "\n"
          ],
          "name": "stdout"
        }
      ]
    },
    {
      "cell_type": "code",
      "metadata": {
        "id": "e29L_fvKwJN_",
        "colab_type": "code",
        "colab": {
          "base_uri": "https://localhost:8080/",
          "height": 86
        },
        "outputId": "f469f0cb-a58a-4691-8245-d772c2bc604a"
      },
      "source": [
        "#!/usr/bin/python\n",
        "import base64\n",
        "\n",
        "c = '126 062 126 163 142 103 102 153 142 062 065 154 111 121 157 113 122 155 170 150 132 172 157 147 123 126 144 067 124 152 102 146 115 107 065 154 130 062 116 150 142 154 071 172 144 104 102 167 130 063 153 167 144 130 060 113 012'\n",
        "\n",
        "flag = \"\"\n",
        "\n",
        "for _ in c.split(' '):\n",
        "  flag += chr(int(_,8))\n",
        "  \n",
        "\n",
        "solution = base64.b64decode(flag)\n",
        "print(solution)"
      ],
      "execution_count": 11,
      "outputs": [
        {
          "output_type": "stream",
          "text": [
            "Well done!\n",
            "\n",
            "Flag: IW{N0_0ne_can_st0p_y0u}\n",
            "\n"
          ],
          "name": "stdout"
        }
      ]
    },
    {
      "cell_type": "markdown",
      "metadata": {
        "id": "-RWdQsR3rXHQ",
        "colab_type": "text"
      },
      "source": [
        "# 其他練習"
      ]
    },
    {
      "cell_type": "markdown",
      "metadata": {
        "id": "SNAI9-keHtvg",
        "colab_type": "text"
      },
      "source": [
        "### DNA編碼\n",
        "\n",
        "\n",
        "qiwi_infosec_ctf_2016/crypto_100_3\n",
        "\n",
        "https://github.com/USCGA/writeups/tree/master/online_ctfs/qiwi_infosec_ctf_2016/crypto_100_3_COMPLETE\n"
      ]
    },
    {
      "cell_type": "code",
      "metadata": {
        "id": "Ep5Tw1_AHlNE",
        "colab_type": "code",
        "outputId": "a6413a48-5cc2-4322-8577-f108a2565cf9",
        "colab": {
          "base_uri": "https://localhost:8080/",
          "height": 34
        }
      },
      "source": [
        "mapping = {\n",
        "        \n",
        "        'CGA': 'A',\n",
        "        'CCA': 'B',\n",
        "        'GTT': 'C',\n",
        "        'TTG': 'D',\n",
        "        'GGC': 'E',\n",
        "        'GGT': 'F',\n",
        "        'TTT': 'G',\n",
        "        'CGC': 'H',\n",
        "        'ATG': 'I',\n",
        "        'AGT': 'J',\n",
        "        'AAG': 'K',\n",
        "        'TGC': 'L',\n",
        "        'TCC': 'M',\n",
        "        'TCT': 'N',\n",
        "        'GGA': 'O',\n",
        "        'GTG': 'P',\n",
        "        'AAC': 'Q',\n",
        "        'TCA': 'R',\n",
        "        'ACG': 'S',\n",
        "        'TTC': 'T',\n",
        "        'CTG': 'U',\n",
        "        'CCT': 'V',\n",
        "        'CCG': 'W',\n",
        "        'CTA': 'X',\n",
        "        'AAA': 'Y',\n",
        "        'CTT': 'Z',\n",
        "        'ATA': ' ',\n",
        "        'TCG': ',',\n",
        "        'GAT': '.',\n",
        "        'GCT': ':',\n",
        "        'ACT': '0',\n",
        "        'ACC': '1',\n",
        "        'TAG': '2',\n",
        "        'GCA': '3',\n",
        "        'GAG': '4',\n",
        "        'AGA': '5',\n",
        "        'TTA': '6',\n",
        "        'ACA': '7',\n",
        "        'AGG': '8',\n",
        "        'GCG': '9'\n",
        "}\n",
        "\n",
        "def decode_dna( string ):\n",
        "\n",
        "    pieces = []\n",
        "    for i in range( 0, len(string), 3 ):\n",
        "        piece =  string[i:i+3]\n",
        "        # pieces.append()\n",
        "        pieces.append( mapping[piece] )\n",
        "\n",
        "    return \"\".join(pieces)\n",
        "\n",
        "\n",
        "string = 'GGTTCAATGGGCTTGTCAATGGTTCGCATATCCATGGGCACGGTTCGCGGCTCA'   \n",
        "print decode_dna(string)"
      ],
      "execution_count": 0,
      "outputs": [
        {
          "output_type": "stream",
          "text": [
            "FRIEDRICH MIESCHER\n"
          ],
          "name": "stdout"
        }
      ]
    }
  ]
}