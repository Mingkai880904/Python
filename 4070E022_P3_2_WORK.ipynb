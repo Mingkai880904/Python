# P1_輸入與輸出

'%c' % 97
'%c %c %c %c %c'% (97,98,99,100,101)
'%d 八進位是%o , 十六進位是  %x' % (97,97,97)

a=10
b=20
c=20
g={'a':6,'b':8}
l={'b':9,'c':10}
eval("a+b+c",l,g)

## 輸出:print

q = 259
p = 0.038
print(q, p, p * q)
print(q, p, p * q, sep=",")
print(q, p, p * q, sep=" :-) ")
print(str(q) + " " + str(p) + " " + str(p * q))

## 格式化輸出Formatted Output==>兩種方法

方法1:使用format()

"{0} love {1}......{2}".format("I","listening","classical Music")

方法2:使用%

'%c' % 97
'%c %c %c %c %c'% (97,98,99,100,101)
'%d 八進位是%o , 十六進位是  %x' % (97,97, 97)

#!/usr/bin/python
 
dict = {'Name': 'Zara', 'Age': 7, 'Class': 'First'}
 
print ("dict['Name']: ", dict['Name'])
print( "dict['Age']: ", dict['Age'])



# P2_資料型態(data type)及其運算

#!/usr/bin/python
 
var1 = 'Hello World!'
var2 = "Python Runoob"
 
print( "var1[0]: ", var1[0])
print ("var2[1:5]: ", var2[1:5])

## 列表|串列(list)資料型態及其運算

#!/usr/bin/python
 
list1 = ['physics', 'chemistry', 1997, 2000]
list2 = [1, 2, 3, 4, 5, 6, 7 ]
 
print ("list1[0]: ", list1[0])
print ("list2[1:5]: ", list2[1:5])

#!/usr/bin/python
# -*- coding: UTF-8 -*-
 
list = []          ## 建立空的list
list.append('Google' 'KSU當選')   ## 使用 append() 添加元素
list.append('KSU當選')
print (list)

## 辭典|字典(dic)資料型態及其運算

#【程式閱讀題】下列程式執行後結果為何??


#!/usr/bin/env python
#coding=utf-8
 
dict = {'Name': 'Zara', 'Age': 7, 'Class': 'First'}
 
print ("dict['Name']: ", dict['Name'])
print ("dict['Age']: ", dict['Age'])

## 辭典|字典(dic)的運算:更新字典內容

#!/usr/bin/env python
#coding=utf-8

dict = {'Name': 'Zara', 'Age': 27, 'Class': 'First'}
 
dict['Age'] = 38 
dict['School'] = "KSU" 
 
print ("dict['Age']: ", dict['Age'])
print ("dict['School']: ", dict['School'])

## 數字型(numeric)資料型態及其運算



餘數運算子


#!/usr/bin/env python
#coding=utf-8

seconds = eval(input("Enter an integer for seconds: "))

minutes = seconds // 60     # Find minutes in seconds
remainingSeconds = seconds % 60   # Seconds remaining
print(seconds, "seconds is", minutes, "minutes and", remainingSeconds, "seconds")

# P3_迴圈與選擇

## 選擇:If |if-else| ..沒有switch

IF

import time
date = time.localtime()		#取得目前的日期時間
year = date[0]
month = date[1]
day = date[2]
day_month = [31, 28, 31, 30, 31, 30, 31, 31, 30, 31, 30, 31]
if year%400==0 or (year%4==0 and year%100!=0):	#判斷是否為閏年
    day_month[1] = 29
if month==1:
    print(day)
else:
    print(sum(day_month[:month-1])+day)

if-else

#!/usr/bin/python
# -*- coding: UTF-8 -*-

age = 24
subject = "電腦"
college = "非重點"
if (age > 25 and subject=="電子資訊工程") or (college=="重點" and subject=="電子資訊工程" ) or (age<=28 and subject=="電腦"):
    print("恭喜，您已獲得敝公司的面試機會!")
else:
    print("抱歉，您未達到面試要求")

多重if: if-elif-else

#!/usr/bin/python
# -*- coding: UTF-8 -*-

number = 2315698

guess = int(raw_input('Enter an integer : '))

if guess == number:
  print 'Congratulations, you guessed it.' # New block starts here
  print "(This is flag: BreakALL{It is easy to write if statement}!)" # New block ends here
elif guess < number:
  print 'No, it is a little higher than that' 
  # You can do whatever you want in a block ...
else:
  print 'No, it is a little lower than that' 
# you must have guess > number to reach here

print 'Done'

# This last statement is always executed, after the if statement is executed

多重if: if-elif-elif-else

#!/usr/bin/python
# -*- coding: UTF-8 -*-
print("")
print("西元年代對應到的十二生肖")
print("")
year = eval(input("請輸入你出生的年代: "))
print("")
zodiacYear = year % 12 
if zodiacYear == 0:
    print("monkey===猴子哩")
elif zodiacYear == 1:
    print("rooster雞")
elif zodiacYear == 2:
    print("dog狗狗")
elif zodiacYear == 3:
    print("pig豬豬")
elif zodiacYear == 4: 
    print("rat鼠")
elif zodiacYear == 5: 
    print("ox牛")
elif zodiacYear == 6:
    print("tiger虎虎生威")
elif zodiacYear == 7:
    print("rabbit兔子")
elif zodiacYear == 8:
    print("dragon偉大的龍")
elif zodiacYear == 9:
    print("snake蛇")
elif zodiacYear == 10:
    print("horse馬")
else: 
    print("sheep羊")

## for loop

score = [70, 90, 78, 85, 97, 94, 65, 80]
s = 0
for i in score:
	s += i
print(s / len(score))

words = ['cat', 'window', 'defenestrate']
for w in words:
   print w, len(w)

#!/usr/bin/python
# -*- coding: UTF-8 -*-
 
for i in range(1,5):  
    for j in range(1,5):
        for k in range(1,5):
            if( i != k ) and (i != j) and (j != k):
                print i,j,k

def main(n):
    for i in range(n):
        print((' * '*i).center(n*3))
    for i in range(n, 0, -1):
        print((' * '*i).center(n*3))

main(6)

#!/usr/bin/python
# -*- coding: UTF-8 -*-
 
a = 809
for i in range(10,100):
    b = i * a
    if b >= 1000 and b <= 10000 and 8 * i < 100 and 9 * i >= 100:
        print (b,' = 800 * ', i, ' + 9 * ', i)

請使用Python中的迴圈，列印輸出從1到1000(n)的所有奇數(偶數)==>奇數和,偶數和

for  i in  range(1,1001):
         if  i  %  2 ==  1:
                print (i)

完成底下雞兔同籠的問題:雞+兔=112, 腳有546隻==>雞幾隻?兔幾隻?

for ji in range(0, 113):
  for tu in range(0, 113):
    if 2*ji + tu*4 == 546:
        print('ji:', ji, ' tu:', tu)

3位數的水仙花數

for i in range(100, 1000):
	ge =  i % 10
	shi = i // 10 % 10
	bai = i // 100
	if ge**3+shi**3+bai**3 == i:
		print(i)

## while loop

#猜數字游戲_版本二:Python3
#!/usr/bin/env python
#coding=utf-8

from __future__ import print_function

import random

x = random.randint(1,100)

while (1):
   number = int(input("猜數字，輸入一個數字:"))
   if x == number:
      print("您猜對了!")
      print(“獎品是 BreakALL{you have done a good guess}")
      break
   elif x > number:
      print("比",number,"大")
   elif x < number:
      print("比",number,"小")

#!/usr/bin/python
# -*- coding: UTF-8 -*-

numbers = []
while True:
    x = input('請輸入一個整數：')
    try:						#異常處理結構的相關細節，詳見第7章
        numbers.append(int(x))
    except:
        print('不是整數')
    while True:
        flag = input('繼續輸入嗎？（yes/no）')
        if flag.lower() not in ('yes', 'no'):	#限定輸入的內容必須為yes或no
            print('只能輸入yes或no')
        else:
            break
    if flag.lower()=='no':
        break

print(sum(numbers)/len(numbers))

## range==> range(start, stop[, step])

範例:range(100)
範例:range(1, 101)
範例:range(0, 10, 2)
範例:range(0, -10, -1)
#!/usr/bin/python
# -*- coding: UTF-8 -*-

x = 'BreakALL'
for i in range(len(x)) :
     print(x[i])


範例:range(100)
範例:range(1, 101)
範例:range(0, 10, 2)
範例:range(0, -10, -1)

#!/usr/bin/python
# -*- coding: UTF-8 -*-
 
tmp = 0
for i in range(1,101):
    tmp += i
print ('The sum is %d' % tmp)

## break

求2000以內可被137整除的最大正整數==>(1)所有正整數(2)所有正整數和

for i in range(2000, 0, -1):
	if i%137 == 0:
		print(i)
		break

作業:判斷質數

import math

n = input("Input an integer:")
n = int(n)
m = int(math.sqrt(n)+2)
for i in range(2, m):
	if n%i == 0:
		print('No')
		break
else:
	print('Yes')

作業:判斷回文數

#================================================================
#【Python 練習實例30】
#輸入一個5位數，判斷它是不是回文數。
#12321是回文數，個位與萬位相同，十位與千位相同。
#================================================================
#!/usr/bin/python
# -*- coding: UTF-8 -*-
 
a = int(raw_input("請輸入一個數字:\n"))
x = str(a)
flag = True
 
for i in range(len(x)/2):
    if x[i] != x[-i - 1]:
        flag = False
        break
        
if flag:
    print "%d 是一個回文數!" % a
else:
    print "%d 不是一個回文數!" % a

continue

digits = (1, 2, 3, 4)
for i in digits:
    ii = i*100
    for j in digits:
        if j==i:
            continue
        jj = j*10
        for k in digits:
            if k==i or k==j:
                continue
            print(ii+jj+k)

作業:完成底下的99乘法口訣表

for i  in  range((1, 10)
         for j in range((1,i+1)
                 print ("%dx%d=%d\t" % (j, i, i*j), end="")
    print("")


## 迴圈效率提升的技巧:

盡量減少內層迴圈的計算
比較看看

import time
digits = (1, 2, 3, 4)

start = time.time()
for i in range(1000):
    result = []
    for i in digits:
        for j in digits:
            for k in digits:
                result.append(i*100+j*10+k)
print(time.time()-start)

start = time.time()
for i in range(1000):
    result = []
    for i in digits:
        i = i*100
        for j in digits:
            j = j*10
            for k in digits:
                result.append(i+j+k)
print(time.time()-start)

盡量使用區域變數

import time
import math

start = time.time()						#取得目前時間
for i in range(10000000):
    math.sin(i)
print('Time Used:', time.time()-start)	#輸出所耗時間

loc_sin = math.sin
start = time.time()
for i in range(10000000):
    loc_sin(i)
print('Time Used:', time.time()-start)

# P4_函式function

## 功能==>函數

方法一:

sum = 0
for i in range(1, 10):
    sum += i
print("Sum from 1 to 10 is", sum)

sum = 0
for i in range(20, 37):
    sum += i
print("Sum from 20 to 37 is", sum)
sum = 0
for i in range(35, 49):
    sum += i
print("Sum from 35 to 49 is", sum)

方法二:

def sum(i1, i2):
    result = 0
    for i in range(i1, i2):
        result += i
    return result

def main():
    print("Sum from 1 to 10 is", sum(1, 10)) 
    print("Sum from 20 to 37 is", sum(20, 37))
    print("Sum from 35 to 49 is", sum(35, 49))

main() # Call the main function

### 抽象(abstraction)==>函數 計算費氏序列:
