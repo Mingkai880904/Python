{
  "nbformat": 4,
  "nbformat_minor": 0,
  "metadata": {
    "colab": {
      "name": "Python-Crypto-CTF.ipynb",
      "version": "0.3.2",
      "provenance": [],
      "include_colab_link": true
    },
    "kernelspec": {
      "name": "python3",
      "display_name": "Python 3"
    }
  },
  "cells": [
    {
      "cell_type": "markdown",
      "metadata": {
        "id": "view-in-github",
        "colab_type": "text"
      },
      "source": [
        "<a href=\"https://colab.research.google.com/github/MyDearGreatTeacher/HappyPythonDay/blob/master/Python_Crypto_CTF.ipynb\" target=\"_parent\"><img src=\"https://colab.research.google.com/assets/colab-badge.svg\" alt=\"Open In Colab\"/></a>"
      ]
    },
    {
      "cell_type": "markdown",
      "metadata": {
        "id": "aup3AxLVok4a",
        "colab_type": "text"
      },
      "source": [
        "# Python-Crypto-CTF"
      ]
    },
    {
      "cell_type": "markdown",
      "metadata": {
        "id": "3XIFgIdRy1lX",
        "colab_type": "text"
      },
      "source": [
        "# Python Program to Convert Decimal to Binary, Octal and Hexadecimal\n",
        "\n",
        "https://www.programiz.com/python-programming/examples/conversion-binary-octal-hexadecimal"
      ]
    },
    {
      "cell_type": "code",
      "metadata": {
        "id": "dSjHUVzlyr5V",
        "colab_type": "code",
        "colab": {
          "base_uri": "https://localhost:8080/",
          "height": 86
        },
        "outputId": "6c756212-3998-46f9-c3ee-5e1b4eaaeaa8"
      },
      "source": [
        "# Python program to convert decimal number into binary, octal and hexadecimal number system\n",
        "\n",
        "# Change this line for a different result\n",
        "dec = 344\n",
        "\n",
        "print(\"The decimal value of\",dec,\"is:\")\n",
        "print(bin(dec),\"in binary.\")\n",
        "print(oct(dec),\"in octal.\")\n",
        "print(hex(dec),\"in hexadecimal.\")"
      ],
      "execution_count": 6,
      "outputs": [
        {
          "output_type": "stream",
          "text": [
            "The decimal value of 344 is:\n",
            "0b101011000 in binary.\n",
            "0o530 in octal.\n",
            "0x158 in hexadecimal.\n"
          ],
          "name": "stdout"
        }
      ]
    },
    {
      "cell_type": "code",
      "metadata": {
        "id": "TDIb9EvF1qfu",
        "colab_type": "code",
        "colab": {
          "base_uri": "https://localhost:8080/",
          "height": 250
        },
        "outputId": "a6a0600b-040c-44bd-deda-f0378116df1c"
      },
      "source": [
        "# Python program to convert decimal number into binary, octal and hexadecimal number system\n",
        "\n",
        "# Change this line for a different result\n",
        "myhex = 0x11\n",
        "\n",
        "print(\"The Hex value of %x \"%myhex,\"is:\")\n",
        "print(bin(myhex),\"in bin.\")\n",
        "print(oct(myhex),\"in octal.\")\n",
        "print(Decimal(myhex),\"in decimal.\")"
      ],
      "execution_count": 11,
      "outputs": [
        {
          "output_type": "stream",
          "text": [
            "The Hex value of 11  is:\n",
            "0b10001 in bin.\n",
            "0o21 in octal.\n"
          ],
          "name": "stdout"
        },
        {
          "output_type": "error",
          "ename": "NameError",
          "evalue": "ignored",
          "traceback": [
            "\u001b[0;31m---------------------------------------------------------------------------\u001b[0m",
            "\u001b[0;31mNameError\u001b[0m                                 Traceback (most recent call last)",
            "\u001b[0;32m<ipython-input-11-3a404150603e>\u001b[0m in \u001b[0;36m<module>\u001b[0;34m()\u001b[0m\n\u001b[1;32m      4\u001b[0m \u001b[0mprint\u001b[0m\u001b[0;34m(\u001b[0m\u001b[0mbin\u001b[0m\u001b[0;34m(\u001b[0m\u001b[0mmyhex\u001b[0m\u001b[0;34m)\u001b[0m\u001b[0;34m,\u001b[0m\u001b[0;34m\"in bin.\"\u001b[0m\u001b[0;34m)\u001b[0m\u001b[0;34m\u001b[0m\u001b[0;34m\u001b[0m\u001b[0m\n\u001b[1;32m      5\u001b[0m \u001b[0mprint\u001b[0m\u001b[0;34m(\u001b[0m\u001b[0moct\u001b[0m\u001b[0;34m(\u001b[0m\u001b[0mmyhex\u001b[0m\u001b[0;34m)\u001b[0m\u001b[0;34m,\u001b[0m\u001b[0;34m\"in octal.\"\u001b[0m\u001b[0;34m)\u001b[0m\u001b[0;34m\u001b[0m\u001b[0;34m\u001b[0m\u001b[0m\n\u001b[0;32m----> 6\u001b[0;31m \u001b[0mprint\u001b[0m\u001b[0;34m(\u001b[0m\u001b[0mDecimal\u001b[0m\u001b[0;34m(\u001b[0m\u001b[0mmyhex\u001b[0m\u001b[0;34m)\u001b[0m\u001b[0;34m,\u001b[0m\u001b[0;34m\"in decimal.\"\u001b[0m\u001b[0;34m)\u001b[0m\u001b[0;34m\u001b[0m\u001b[0;34m\u001b[0m\u001b[0m\n\u001b[0m",
            "\u001b[0;31mNameError\u001b[0m: name 'Decimal' is not defined"
          ]
        }
      ]
    },
    {
      "cell_type": "markdown",
      "metadata": {
        "id": "l4eBnac5orM9",
        "colab_type": "text"
      },
      "source": [
        "# Crypto 101"
      ]
    },
    {
      "cell_type": "markdown",
      "metadata": {
        "id": "qjqudHQkon_R",
        "colab_type": "text"
      },
      "source": [
        "##  RC3 CTF 2016 : salad-100"
      ]
    },
    {
      "cell_type": "code",
      "metadata": {
        "id": "lPh7IHN_ovWh",
        "colab_type": "code",
        "colab": {}
      },
      "source": [
        "import string\n",
        "\n",
        "caesaralpha = \"abcdefghijklmnopqrstuvwxyz0123456789\"\n",
        "\n",
        "def caesar(input_string, rot):\n",
        "    output_string = \"\"\n",
        "    for i in range(len(input_string)):\n",
        "        if input_string[i].isalnum():\n",
        "            idx = (caesaralpha.find(input_string[i]) + rot) % len(caesaralpha)\n",
        "            output_string += caesaralpha[idx]\n",
        "        else:\n",
        "            output_string += input_string[i]\n",
        "    return output_string\n",
        "\n",
        "enc = '7sj-ighm-742q3w4t' # encrypt data\n",
        "\n",
        "for i in range(len(caesaralpha)):\n",
        "    print caesar(enc, i)"
      ],
      "execution_count": 0,
      "outputs": []
    },
    {
      "cell_type": "code",
      "metadata": {
        "id": "ZQYXFnYWoiSs",
        "colab_type": "code",
        "colab": {}
      },
      "source": [
        "'rc3-2016-romangod'.upper()"
      ],
      "execution_count": 0,
      "outputs": []
    },
    {
      "cell_type": "markdown",
      "metadata": {
        "id": "6HoCkILOpYta",
        "colab_type": "text"
      },
      "source": [
        "# AlexCTF: Fore1: Hit the core\n",
        "\n",
        "https://github.com/ctfs/write-ups-2017/tree/master/alexctf-2017/forensics/fore1-hit-the-core-50"
      ]
    },
    {
      "cell_type": "markdown",
      "metadata": {
        "id": "k-ETbBpkpb7O",
        "colab_type": "text"
      },
      "source": [
        "### 第一種解法"
      ]
    },
    {
      "cell_type": "code",
      "metadata": {
        "id": "PthnSvMvpclC",
        "colab_type": "code",
        "colab": {
          "base_uri": "https://localhost:8080/",
          "height": 34
        },
        "outputId": "6e9368bd-1779-4c6a-a970-84cee191330b"
      },
      "source": [
        "cipher='cvqAeqacLtqazEigwiXobxrCrtuiTzahfFreqc{bnjrKwgk83kgd43j85ePgb_e_rwqr7fvbmHjklo3tews_hmkogooyf0vbnk0ii87Drfgh_n kiwutfb0ghk9ro987k5tfb_hjiouo087ptfcv}'\n",
        "\n",
        "cipher=cipher[3:] \n",
        "\n",
        "flag = '' \n",
        "\n",
        "for x in range(0,len(cipher),1): \n",
        "    if x%5==0: \n",
        "       flag +=cipher[x]\n",
        "        \n",
        "print(flag)\n"
      ],
      "execution_count": 2,
      "outputs": [
        {
          "output_type": "stream",
          "text": [
            "ALEXCTF{K33P_7H3_g00D_w0rk_up}\n"
          ],
          "name": "stdout"
        }
      ]
    },
    {
      "cell_type": "markdown",
      "metadata": {
        "id": "sI7sUFbNpjKU",
        "colab_type": "text"
      },
      "source": [
        "### 第二種解法"
      ]
    },
    {
      "cell_type": "code",
      "metadata": {
        "id": "_ROykavepmKY",
        "colab_type": "code",
        "colab": {
          "base_uri": "https://localhost:8080/",
          "height": 34
        },
        "outputId": "ecc65ba3-ca97-42fb-fca3-12180f834b34"
      },
      "source": [
        "s = 'cvqAeqacLtqazEigwiXobxrCrtuiTzahfFreqc{bnjrKwgk83kgd43j85ePgb_e_rwqr7fvbmHjklo3tews_hmkogooyf0vbnk0ii87Drfgh_n kiwutfb0ghk9ro987k5tfb_hjiouo087ptfcv}' \n",
        "print(s[3::5])"
      ],
      "execution_count": 4,
      "outputs": [
        {
          "output_type": "stream",
          "text": [
            "ALEXCTF{K33P_7H3_g00D_w0rk_up}\n"
          ],
          "name": "stdout"
        }
      ]
    },
    {
      "cell_type": "markdown",
      "metadata": {
        "id": "fSPb2poTpr39",
        "colab_type": "text"
      },
      "source": [
        "### 第三種解法"
      ]
    },
    {
      "cell_type": "code",
      "metadata": {
        "id": "jpOV47h5pus4",
        "colab_type": "code",
        "colab": {
          "base_uri": "https://localhost:8080/",
          "height": 34
        },
        "outputId": "15a0ad31-bd3a-4607-a56d-7fe936e0a98c"
      },
      "source": [
        "cipher='cvqAeqacLtqazEigwiXobxrCrtuiTzahfFreqc{bnjrKwgk83kgd43j85ePgb_e_rwqr7fvbmHjklo3tews_hmkogooyf0vbnk0ii87Drfgh_n kiwutfb0ghk9ro987k5tfb_hjiouo087ptfcv}' \n",
        "\n",
        "''.join(cipher[3 : : 5])\n"
      ],
      "execution_count": 5,
      "outputs": [
        {
          "output_type": "execute_result",
          "data": {
            "text/plain": [
              "'ALEXCTF{K33P_7H3_g00D_w0rk_up}'"
            ]
          },
          "metadata": {
            "tags": []
          },
          "execution_count": 5
        }
      ]
    },
    {
      "cell_type": "markdown",
      "metadata": {
        "id": "Up8WFFTTosrA",
        "colab_type": "text"
      },
      "source": [
        "# Crypto 102"
      ]
    },
    {
      "cell_type": "markdown",
      "metadata": {
        "id": "N3Sy1_r9o4EC",
        "colab_type": "text"
      },
      "source": [
        "## School CTF 2015: affine-cipher-100(教)"
      ]
    },
    {
      "cell_type": "code",
      "metadata": {
        "id": "9yMlklySo5ps",
        "colab_type": "code",
        "colab": {
          "base_uri": "https://localhost:8080/",
          "height": 34
        },
        "outputId": "9abb4fd7-4fff-4b19-d7fe-c0724f15f10d"
      },
      "source": [
        "import string \n",
        "s = string.ascii_lowercase # a-z \n",
        "s += '_' \n",
        "d = {} \n",
        "\n",
        "for c in range(len(s)): \n",
        "      d[s[(c*4 + 15)%27]] = s[c] \n",
        "\n",
        "ciphertext = 'ifpmluglesecdlqp_rclfrseljpkq' \n",
        "s1 = '' \n",
        "\n",
        "for x in ciphertext : \n",
        "     s1 += d[x] \n",
        "\n",
        "print(s1)"
      ],
      "execution_count": 1,
      "outputs": [
        {
          "output_type": "stream",
          "text": [
            "flag_is_every_haxor_love_math\n"
          ],
          "name": "stdout"
        }
      ]
    }
  ]
}