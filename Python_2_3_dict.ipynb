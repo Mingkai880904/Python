{
  "nbformat": 4,
  "nbformat_minor": 0,
  "metadata": {
    "colab": {
      "name": "Python_2_3_dict.ipynb",
      "version": "0.3.2",
      "provenance": [],
      "include_colab_link": true
    },
    "kernelspec": {
      "name": "python3",
      "display_name": "Python 3"
    }
  },
  "cells": [
    {
      "cell_type": "markdown",
      "metadata": {
        "id": "view-in-github",
        "colab_type": "text"
      },
      "source": [
        "<a href=\"https://colab.research.google.com/github/MyDearGreatTeacher/HappyPythonDay/blob/master/Python_2_3_dict.ipynb\" target=\"_parent\"><img src=\"https://colab.research.google.com/assets/colab-badge.svg\" alt=\"Open In Colab\"/></a>"
      ]
    },
    {
      "cell_type": "markdown",
      "metadata": {
        "id": "WwMe6eUrsIot",
        "colab_type": "text"
      },
      "source": [
        "# 字典(Dictionary)\n",
        "\n",
        "```\n",
        "字典是一種可變容器模型，且可存儲任意類型物件。\n",
        "\n",
        "字典的每個鍵值(key=>value)對用冒號(:)分割\n",
        "每對pair之間用逗號(,)分割\n",
        "整個字典包括在花括弧({})中\n",
        "```\n",
        "\n",
        "存取時:dict['Key']會得到value!"
      ]
    },
    {
      "cell_type": "code",
      "metadata": {
        "id": "H6e-F2r9sCkY",
        "colab_type": "code",
        "colab": {}
      },
      "source": [
        "#!/usr/bin/python\n",
        " \n",
        "dict = {'Name': 'Zara', 'Age': 7, 'Class': 'First'}\n",
        " \n",
        "print(\"dict['Name']: \", dict['Name'])\n",
        "print(\"dict['Age']: \", dict['Age'])\n"
      ],
      "execution_count": 0,
      "outputs": []
    },
    {
      "cell_type": "markdown",
      "metadata": {
        "id": "9axclFHBsuGO",
        "colab_type": "text"
      },
      "source": [
        "#### Queston 1:寫出上述dict的key有那些?"
      ]
    },
    {
      "cell_type": "markdown",
      "metadata": {
        "id": "WnrHq-kys8eE",
        "colab_type": "text"
      },
      "source": [
        "#### Queston 2:寫出上述dict的value有那些?"
      ]
    },
    {
      "cell_type": "markdown",
      "metadata": {
        "id": "APKsfovVtBTA",
        "colab_type": "text"
      },
      "source": [
        "#### Queston 3:有幾組key-value pairs?"
      ]
    },
    {
      "cell_type": "markdown",
      "metadata": {
        "id": "XhKrgjUXldRo",
        "colab_type": "text"
      },
      "source": [
        "##  建立dict的方法"
      ]
    },
    {
      "cell_type": "code",
      "metadata": {
        "id": "GbmwWT6blniT",
        "colab_type": "code",
        "colab": {}
      },
      "source": [
        "dict_1 = dict({\"a\":1234,\"b\":2345,\"c\":3456})\n",
        "dict_1"
      ],
      "execution_count": 0,
      "outputs": []
    },
    {
      "cell_type": "code",
      "metadata": {
        "id": "nfEAEYh5mM_g",
        "colab_type": "code",
        "colab": {}
      },
      "source": [
        "dict_2 = dict(a=1234,b=2345,c=3456)\n",
        "dict_2 "
      ],
      "execution_count": 0,
      "outputs": []
    },
    {
      "cell_type": "code",
      "metadata": {
        "id": "rbD22jjtmJUo",
        "colab_type": "code",
        "colab": {}
      },
      "source": [
        "dict_3 = {\"a\":1234,\"b\":2345,\"c\":3456}\n",
        "dict_3"
      ],
      "execution_count": 0,
      "outputs": []
    },
    {
      "cell_type": "code",
      "metadata": {
        "id": "F1exttcfnPIt",
        "colab_type": "code",
        "colab": {}
      },
      "source": [
        "# 錯誤的寫法\n",
        "dict_wrong = dict{\"a\":1234,\"b\":2345,\"c\":3456}\n",
        "dict_wrong"
      ],
      "execution_count": 0,
      "outputs": []
    },
    {
      "cell_type": "markdown",
      "metadata": {
        "id": "hkPa20WgmjYj",
        "colab_type": "text"
      },
      "source": [
        "### 存取字典的資料 How to access elements from a dictionary?\n",
        "\n",
        "```\n",
        "字典的key必須是唯一的\n",
        "要取出value  使用中括號\n",
        "```"
      ]
    },
    {
      "cell_type": "code",
      "metadata": {
        "id": "zKg4lx1PmkuL",
        "colab_type": "code",
        "colab": {}
      },
      "source": [
        "dict_1[\"a\"]\n",
        "#dict_2[\"b\"]\n",
        "#dict_3[\"c\"]"
      ],
      "execution_count": 0,
      "outputs": []
    },
    {
      "cell_type": "markdown",
      "metadata": {
        "id": "INISHPVEtMz7",
        "colab_type": "text"
      },
      "source": [
        "# dict的運算"
      ]
    },
    {
      "cell_type": "markdown",
      "metadata": {
        "id": "ZJ7bJ4elnGnk",
        "colab_type": "text"
      },
      "source": [
        "###  新增、修改、刪除與清除dict資料"
      ]
    },
    {
      "cell_type": "code",
      "metadata": {
        "id": "nkv2CL_knli1",
        "colab_type": "code",
        "outputId": "1d430626-a000-4736-de0e-15ec276ba060",
        "colab": {
          "base_uri": "https://localhost:8080/",
          "height": 34
        }
      },
      "source": [
        "#新增\n",
        "dict_1[\"d\"]=4567\n",
        "dict_1"
      ],
      "execution_count": 0,
      "outputs": [
        {
          "output_type": "execute_result",
          "data": {
            "text/plain": [
              "{'a': 1234, 'b': 2345, 'c': 3456, 'd': 4567}"
            ]
          },
          "metadata": {
            "tags": []
          },
          "execution_count": 27
        }
      ]
    },
    {
      "cell_type": "code",
      "metadata": {
        "id": "V6rbFI_sthx4",
        "colab_type": "code",
        "outputId": "1fd9b838-3258-41ac-de8b-8624b9d88e9c",
        "colab": {
          "base_uri": "https://localhost:8080/",
          "height": 34
        }
      },
      "source": [
        "# 新增字典的key和value值::使用.setdefault()\n",
        "data={\"A\":\"123\",\"B\":\"456\"}\n",
        "data.setdefault('C','789')\n",
        "print(data)"
      ],
      "execution_count": 0,
      "outputs": [
        {
          "output_type": "stream",
          "text": [
            "{'A': '123', 'B': '456', 'C': '789'}\n"
          ],
          "name": "stdout"
        }
      ]
    },
    {
      "cell_type": "code",
      "metadata": {
        "id": "0x1t5ylOtpIR",
        "colab_type": "code",
        "outputId": "0c07c5be-fc94-41ae-e5ad-aa89c9536c01",
        "colab": {
          "base_uri": "https://localhost:8080/",
          "height": 34
        }
      },
      "source": [
        "#新增字典的key和value值使用.updata()\n",
        "data={\"A\":\"123\",\"B\":\"456\"}\n",
        "dic2={\"C\":\"987\"}\n",
        "data.update(dic2)\n",
        "print(data)"
      ],
      "execution_count": 0,
      "outputs": [
        {
          "output_type": "stream",
          "text": [
            "{'A': '123', 'B': '456', 'C': '987'}\n"
          ],
          "name": "stdout"
        }
      ]
    },
    {
      "cell_type": "code",
      "metadata": {
        "id": "ufqTRDrouUfA",
        "colab_type": "code",
        "outputId": "0ddd8c68-09ba-4177-c6f6-bd2d95b059ab",
        "colab": {
          "base_uri": "https://localhost:8080/",
          "height": 34
        }
      },
      "source": [
        "#修改字典的key和value值\n",
        "data={\"A\":\"123\",\"B\":\"456\"}\n",
        "data['A']=\"666\"\n",
        "print(data)"
      ],
      "execution_count": 0,
      "outputs": [
        {
          "output_type": "stream",
          "text": [
            "{'A': '666', 'B': '456'}\n"
          ],
          "name": "stdout"
        }
      ]
    },
    {
      "cell_type": "code",
      "metadata": {
        "id": "TKVmre7mnvIq",
        "colab_type": "code",
        "outputId": "b2e2b5a0-b799-4bda-e858-a25b7cd1615e",
        "colab": {
          "base_uri": "https://localhost:8080/",
          "height": 34
        }
      },
      "source": [
        "#刪除\n",
        "del dict_1[\"d\"]\n",
        "dict_1"
      ],
      "execution_count": 0,
      "outputs": [
        {
          "output_type": "execute_result",
          "data": {
            "text/plain": [
              "{'a': 1234, 'b': 2345, 'c': 3456}"
            ]
          },
          "metadata": {
            "tags": []
          },
          "execution_count": 28
        }
      ]
    },
    {
      "cell_type": "code",
      "metadata": {
        "id": "faF2c0n_t0Cl",
        "colab_type": "code",
        "outputId": "d013ad08-21f7-4c23-e4a9-a304cab2a402",
        "colab": {
          "base_uri": "https://localhost:8080/",
          "height": 34
        }
      },
      "source": [
        "# 清除字典內的鍵keys值values\n",
        "data.clear()\n",
        "print(data)"
      ],
      "execution_count": 0,
      "outputs": [
        {
          "output_type": "stream",
          "text": [
            "{}\n"
          ],
          "name": "stdout"
        }
      ]
    },
    {
      "cell_type": "code",
      "metadata": {
        "id": "rNGs8anAunwp",
        "colab_type": "code",
        "outputId": "931ad372-4cee-4da7-902a-b2a4a40879d2",
        "colab": {
          "base_uri": "https://localhost:8080/",
          "height": 34
        }
      },
      "source": [
        "# 複製字典的內容到另一字典\n",
        "data={\"A\":\"123\",\"B\":\"456\"}\n",
        "data2=data.copy()\n",
        "data2\n",
        "#print(data2)"
      ],
      "execution_count": 0,
      "outputs": [
        {
          "output_type": "execute_result",
          "data": {
            "text/plain": [
              "{'A': '123', 'B': '456'}"
            ]
          },
          "metadata": {
            "tags": []
          },
          "execution_count": 59
        }
      ]
    },
    {
      "cell_type": "markdown",
      "metadata": {
        "id": "h-EKAeAYciDE",
        "colab_type": "text"
      },
      "source": [
        "### 使用for loop去存取dict的資料\n",
        "\n",
        "https://stackoverflow.com/questions/3294889/iterating-over-dictionaries-using-for-loops"
      ]
    },
    {
      "cell_type": "code",
      "metadata": {
        "id": "O5uW08S0cI75",
        "colab_type": "code",
        "colab": {}
      },
      "source": [
        "d = {'a': 91, 'b': 72, 'c': 83} \n",
        "\n",
        "for key in d:\n",
        "  print(key)\n",
        "\n",
        "for k in d.keys():\n",
        "    print(k)\n",
        "    \n",
        "for v in d.values():\n",
        "    print(v)\n",
        "    \n",
        "for k, v in d.items():\n",
        "  print(k, v)"
      ],
      "execution_count": 0,
      "outputs": []
    },
    {
      "cell_type": "markdown",
      "metadata": {
        "id": "8TVk2uoPv3m0",
        "colab_type": "text"
      },
      "source": [
        "### 將dict的value(key)寫成list"
      ]
    },
    {
      "cell_type": "code",
      "metadata": {
        "id": "G_9KxYlFu9Ec",
        "colab_type": "code",
        "colab": {}
      },
      "source": [
        "romanD = { \"I\":1,\"II\":2,\"III\":3,\"IV\":4,\"V\":5,\"VI\":6,\"VII\":7,\"VIII\":8,\"IX\":9 } \n",
        "romankeyList = [] \n",
        "romanvalueList = [] \n",
        "\n",
        "for key, value in romanD.items(): \n",
        "    romankeyList.append(key) \n",
        "    romanvalueList.append(value) \n",
        "\n",
        "#romankeyList\n",
        "romanvalueList"
      ],
      "execution_count": 0,
      "outputs": []
    },
    {
      "cell_type": "markdown",
      "metadata": {
        "id": "HrgEyQyvwLvS",
        "colab_type": "text"
      },
      "source": [
        "### 將兩個list 合併成為一個 dictionary \n"
      ]
    },
    {
      "cell_type": "code",
      "metadata": {
        "id": "BKTSQE5QwUGW",
        "colab_type": "code",
        "colab": {}
      },
      "source": [
        "romanD1 = dict(zip(romankeyList, romanvalueList))\n",
        "romanD1"
      ],
      "execution_count": 0,
      "outputs": []
    },
    {
      "cell_type": "code",
      "metadata": {
        "id": "8SzSmCrYwYZl",
        "colab_type": "code",
        "colab": {}
      },
      "source": [
        "romanD1 = dict(zip(romanvalueList, romankeyList))\n",
        "romanD1"
      ],
      "execution_count": 0,
      "outputs": []
    },
    {
      "cell_type": "markdown",
      "metadata": {
        "id": "rcnts451oPdZ",
        "colab_type": "text"
      },
      "source": [
        "## Dictionary Comprehension"
      ]
    },
    {
      "cell_type": "markdown",
      "metadata": {
        "id": "Ud9H-32woU0i",
        "colab_type": "text"
      },
      "source": [
        "```\n",
        "產生一個 key為1~100的字典(dict)，value為布林值，\n",
        "偶數時為True,奇數時為False\n",
        "```"
      ]
    },
    {
      "cell_type": "code",
      "metadata": {
        "id": "ImHSr84DoNhf",
        "colab_type": "code",
        "colab": {}
      },
      "source": [
        "dict_even = {x:x%2==0 for x in range(1,101)}\n",
        "print(dict_even)"
      ],
      "execution_count": 0,
      "outputs": []
    },
    {
      "cell_type": "markdown",
      "metadata": {
        "id": "mvvPDpedqGq4",
        "colab_type": "text"
      },
      "source": [
        "### 產生a到z的ascii字典"
      ]
    },
    {
      "cell_type": "code",
      "metadata": {
        "id": "gCsn13bvpgYK",
        "colab_type": "code",
        "colab": {}
      },
      "source": [
        "ascii_a2z = {num: chr(num) for num in range(97,123)}\n",
        "ascii_a2z "
      ],
      "execution_count": 0,
      "outputs": []
    },
    {
      "cell_type": "code",
      "metadata": {
        "id": "gfy5oTHlqVJN",
        "colab_type": "code",
        "colab": {}
      },
      "source": [
        "alphas= []\n",
        "for num in range(97,123):\n",
        "    alpha = chr(num)\n",
        "    alphas.append(alpha)\n",
        "  \n",
        "ascii_a2z = {alpha: ord(alpha) for alpha in alphas}\n",
        "ascii_a2z"
      ],
      "execution_count": 0,
      "outputs": []
    },
    {
      "cell_type": "markdown",
      "metadata": {
        "id": "MmxLobwFsM29",
        "colab_type": "text"
      },
      "source": [
        "### 產生ascii字典"
      ]
    },
    {
      "cell_type": "code",
      "metadata": {
        "id": "5qM_xek8r4B_",
        "colab_type": "code",
        "colab": {}
      },
      "source": [
        "ascii_dict = {num: chr(num) for num in range(256)}\n",
        "ascii_dict "
      ],
      "execution_count": 0,
      "outputs": []
    },
    {
      "cell_type": "code",
      "metadata": {
        "id": "b2FDgKWZsEPr",
        "colab_type": "code",
        "colab": {}
      },
      "source": [
        "ascii_dict[66]"
      ],
      "execution_count": 0,
      "outputs": []
    },
    {
      "cell_type": "markdown",
      "metadata": {
        "id": "G6dfZYkttPcw",
        "colab_type": "text"
      },
      "source": [
        "# dict內建的函數"
      ]
    },
    {
      "cell_type": "markdown",
      "metadata": {
        "id": "Kh0-T1F4xeIb",
        "colab_type": "text"
      },
      "source": [
        "https://www.programiz.com/python-programming/dictionary"
      ]
    },
    {
      "cell_type": "markdown",
      "metadata": {
        "id": "phQK5XndEyhM",
        "colab_type": "text"
      },
      "source": [
        "### DNA編碼\n",
        "\n",
        "\n",
        "qiwi_infosec_ctf_2016/crypto_100_3\n",
        "\n",
        "https://github.com/USCGA/writeups/tree/master/online_ctfs/qiwi_infosec_ctf_2016/crypto_100_3_COMPLETE"
      ]
    },
    {
      "cell_type": "code",
      "metadata": {
        "id": "hAD7QGJBE2Ik",
        "colab_type": "code",
        "colab": {
          "base_uri": "https://localhost:8080/",
          "height": 34
        },
        "outputId": "fc9e5359-3054-4a99-b24e-219a9328c4ed"
      },
      "source": [
        "mapping = {\n",
        "        \n",
        "        'CGA': 'A',\n",
        "        'CCA': 'B',\n",
        "        'GTT': 'C',\n",
        "        'TTG': 'D',\n",
        "        'GGC': 'E',\n",
        "        'GGT': 'F',\n",
        "        'TTT': 'G',\n",
        "        'CGC': 'H',\n",
        "        'ATG': 'I',\n",
        "        'AGT': 'J',\n",
        "        'AAG': 'K',\n",
        "        'TGC': 'L',\n",
        "        'TCC': 'M',\n",
        "        'TCT': 'N',\n",
        "        'GGA': 'O',\n",
        "        'GTG': 'P',\n",
        "        'AAC': 'Q',\n",
        "        'TCA': 'R',\n",
        "        'ACG': 'S',\n",
        "        'TTC': 'T',\n",
        "        'CTG': 'U',\n",
        "        'CCT': 'V',\n",
        "        'CCG': 'W',\n",
        "        'CTA': 'X',\n",
        "        'AAA': 'Y',\n",
        "        'CTT': 'Z',\n",
        "        'ATA': ' ',\n",
        "        'TCG': ',',\n",
        "        'GAT': '.',\n",
        "        'GCT': ':',\n",
        "        'ACT': '0',\n",
        "        'ACC': '1',\n",
        "        'TAG': '2',\n",
        "        'GCA': '3',\n",
        "        'GAG': '4',\n",
        "        'AGA': '5',\n",
        "        'TTA': '6',\n",
        "        'ACA': '7',\n",
        "        'AGG': '8',\n",
        "        'GCG': '9'\n",
        "}\n",
        "\n",
        "def decode_dna( string ):\n",
        "\n",
        "    pieces = []\n",
        "    for i in range( 0, len(string), 3 ):\n",
        "        piece =  string[i:i+3]\n",
        "        # pieces.append()\n",
        "        pieces.append( mapping[piece] )\n",
        "\n",
        "    return \"\".join(pieces)\n",
        "\n",
        "\n",
        "string = 'GGTTCAATGGGCTTGTCAATGGTTCGCATATCCATGGGCACGGTTCGCGGCTCA'   \n",
        "print(decode_dna(string))"
      ],
      "execution_count": 70,
      "outputs": [
        {
          "output_type": "stream",
          "text": [
            "FRIEDRICH MIESCHER\n"
          ],
          "name": "stdout"
        }
      ]
    }
  ]
}