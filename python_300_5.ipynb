{
  "nbformat": 4,
  "nbformat_minor": 0,
  "metadata": {
    "colab": {
      "name": "python 300_5.ipynb",
      "version": "0.3.2",
      "provenance": [],
      "include_colab_link": true
    },
    "kernelspec": {
      "name": "python2",
      "display_name": "Python 2"
    }
  },
  "cells": [
    {
      "cell_type": "markdown",
      "metadata": {
        "id": "view-in-github",
        "colab_type": "text"
      },
      "source": [
        "<a href=\"https://colab.research.google.com/github/Mingkai880904/python-practice/blob/master/python_300_5.ipynb\" target=\"_parent\"><img src=\"https://colab.research.google.com/assets/colab-badge.svg\" alt=\"Open In Colab\"/></a>"
      ]
    },
    {
      "metadata": {
        "id": "LO77OZvszpM3",
        "colab_type": "code",
        "outputId": "eb5d45f1-2665-4ec1-eb7e-c8407d080e43",
        "colab": {
          "base_uri": "https://localhost:8080/",
          "height": 34
        }
      },
      "cell_type": "code",
      "source": [
        "#python練習 CH1 practice1.4\n",
        "# Convert Fahrenheit to Celsius\n",
        "print(\"Fahrenheit 35 is Celsius degree \")\n",
        "print(5 / 9 * (35 - 32))\n"
      ],
      "execution_count": 0,
      "outputs": [
        {
          "output_type": "stream",
          "text": [
            "0.340206185567\n"
          ],
          "name": "stdout"
        }
      ]
    },
    {
      "metadata": {
        "id": "sHmueMYH3229",
        "colab_type": "text"
      },
      "cell_type": "markdown",
      "source": [
        "Ch1 practice 1.4"
      ]
    }
  ]
}