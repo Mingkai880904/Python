{
  "nbformat": 4,
  "nbformat_minor": 0,
  "metadata": {
    "colab": {
      "name": "Python_3_Decision.ipynb",
      "version": "0.3.2",
      "provenance": [],
      "include_colab_link": true
    },
    "kernelspec": {
      "name": "python3",
      "display_name": "Python 3"
    }
  },
  "cells": [
    {
      "cell_type": "markdown",
      "metadata": {
        "id": "view-in-github",
        "colab_type": "text"
      },
      "source": [
        "<a href=\"https://colab.research.google.com/github/MyDearGreatTeacher/HappyPythonDay/blob/master/Python_3_Decision.ipynb\" target=\"_parent\"><img src=\"https://colab.research.google.com/assets/colab-badge.svg\" alt=\"Open In Colab\"/></a>"
      ]
    },
    {
      "cell_type": "markdown",
      "metadata": {
        "id": "d9Q67xRN4-l6",
        "colab_type": "text"
      },
      "source": [
        "# 程式流程控制　之   選擇(判斷)  SELECTION /DECISION\n"
      ]
    },
    {
      "cell_type": "markdown",
      "metadata": {
        "id": "WhWFACNA5JGz",
        "colab_type": "text"
      },
      "source": [
        "### Python 程式碼縮排\n",
        "```\n",
        "Python 語言以冒號「:」及縮排來表示程式區塊\n",
        "縮排為 1 個 Tab 鍵或 4 個空白鍵\n",
        "\n",
        "```\n",
        "\n",
        "PS: Python沒有switch"
      ]
    },
    {
      "cell_type": "markdown",
      "metadata": {
        "id": "xUwaj9Ww5Rfw",
        "colab_type": "text"
      },
      "source": [
        "# 單向判斷式（if⋯）:  是非題｜對的才要做\n",
        "# 雙向判斷式（if⋯else）: 二選一｜一定要選的\n",
        "\n"
      ]
    },
    {
      "cell_type": "markdown",
      "metadata": {
        "id": "4xRAZhRn5dPF",
        "colab_type": "text"
      },
      "source": [
        "# 請問從元旦到今天你已經過幾天呢了？\n"
      ]
    },
    {
      "cell_type": "code",
      "metadata": {
        "id": "Xmv17_o-50G1",
        "colab_type": "code",
        "outputId": "fb6dfbdf-38ee-4bde-88c7-66d482d80436",
        "colab": {
          "base_uri": "https://localhost:8080/",
          "height": 55
        }
      },
      "source": [
        "import time\n",
        "\n",
        "date = time.localtime()\t\n",
        "print(date)"
      ],
      "execution_count": 0,
      "outputs": [
        {
          "output_type": "stream",
          "text": [
            "time.struct_time(tm_year=2019, tm_mon=5, tm_mday=22, tm_hour=3, tm_min=34, tm_sec=1, tm_wday=2, tm_yday=142, tm_isdst=0)\n"
          ],
          "name": "stdout"
        }
      ]
    },
    {
      "cell_type": "code",
      "metadata": {
        "id": "RpgeOexooIlj",
        "colab_type": "code",
        "outputId": "7ac68f49-81b6-4df4-d96b-184d8dec3525",
        "colab": {
          "base_uri": "https://localhost:8080/",
          "height": 52
        }
      },
      "source": [
        "year, month, day = eval(input(\"請輸入年月日\"))\n",
        "year, month, day "
      ],
      "execution_count": 0,
      "outputs": [
        {
          "output_type": "stream",
          "text": [
            "請輸入年月日2019,5,22\n"
          ],
          "name": "stdout"
        },
        {
          "output_type": "execute_result",
          "data": {
            "text/plain": [
              "(2019, 5, 22)"
            ]
          },
          "metadata": {
            "tags": []
          },
          "execution_count": 4
        }
      ]
    },
    {
      "cell_type": "code",
      "metadata": {
        "id": "fwOP-iOx45hF",
        "colab_type": "code",
        "outputId": "a6e628b8-f1d5-4c45-dce0-f08fedbd7472",
        "colab": {
          "base_uri": "https://localhost:8080/",
          "height": 52
        }
      },
      "source": [
        "import time\n",
        "\n",
        "\n",
        "#date = time.localtime()\t\t#取得目前的日期時間\n",
        "#year = date[0]\n",
        "#month = date[1]\n",
        "#day = date[2]\n",
        "\n",
        "year, month, day = eval(input(\"請輸入年月日::\"))\n",
        "\n",
        "\n",
        "day_month = [31, 28, 31, 30, 31, 30, 31, 31, 30, 31, 30, 31]\n",
        "\n",
        "if year%400==0 or (year%4==0 and year%100!=0):\t#判斷是否為閏年\n",
        "  day_month[1] = 29\n",
        "\n",
        "if month==1:\n",
        "    print(day)\n",
        "else:\n",
        "    print(sum(day_month[:month-1])+day)\n"
      ],
      "execution_count": 0,
      "outputs": [
        {
          "output_type": "stream",
          "text": [
            "請輸入年月日::1,1,1\n",
            "1\n"
          ],
          "name": "stdout"
        }
      ]
    },
    {
      "cell_type": "markdown",
      "metadata": {
        "id": "PXSzWPuv6Bwj",
        "colab_type": "text"
      },
      "source": [
        "# 多向判斷式（if⋯elif⋯else）\n",
        "\n",
        "多選一\n"
      ]
    },
    {
      "cell_type": "markdown",
      "metadata": {
        "id": "MCi7L9VF6Iv2",
        "colab_type": "text"
      },
      "source": [
        "```\n",
        "百貨公司週年慶活動血拼大打折，\n",
        "吸引很多顧客上門，\n",
        "公司決定再加碼回饋客戶，\n",
        "\n",
        "只要客戶消費\n",
        "金額在 100000 元以上就打八折，\n",
        "金額在 50000 元以上就打八五折，\n",
        "金額在 30000 元以上就打九折，\n",
        "金額在 10000 元以上就打九五折，\n",
        "金額在 10000 元以下就不打折，\n",
        "請幫該公司設計這個收銀台的程式，\n",
        "輸入顧客購買金額後，計算顧客應付的金錢。\n",
        "```"
      ]
    },
    {
      "cell_type": "code",
      "metadata": {
        "id": "Qh7REwlH6R42",
        "colab_type": "code",
        "outputId": "1b26ef03-4411-482d-804f-9e20c71ebe1d",
        "colab": {
          "base_uri": "https://localhost:8080/",
          "height": 51
        }
      },
      "source": [
        "money = int(input(\"請輸入購物金額：\"))\n",
        "\n",
        "if(money >= 10000):\n",
        "\n",
        "    if(money >= 100000):\n",
        "        print(money * 0.8, end=\" 元\\n\")  #八折\n",
        "    elif(money >= 50000):\n",
        "        print(money * 0.85, end=\" 元\\n\")  #八五折\n",
        "    elif(money >= 30000):\n",
        "        print(money * 0.9, end=\" 元\\n\")  #九折\n",
        "    else:\n",
        "        print(money * 0.95, end=\" 元\\n\")  #九五折\n",
        "\n",
        "else:\n",
        "    print(money, end=\" 元\\n\")  #未打折\n"
      ],
      "execution_count": 0,
      "outputs": [
        {
          "output_type": "stream",
          "text": [
            "請輸入購物金額：111111\n",
            "88888.8 元\n"
          ],
          "name": "stdout"
        }
      ]
    }
  ]
}