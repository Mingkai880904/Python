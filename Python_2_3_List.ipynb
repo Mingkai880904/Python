{
  "nbformat": 4,
  "nbformat_minor": 0,
  "metadata": {
    "colab": {
      "name": "Python_2_3_List.ipynb",
      "version": "0.3.2",
      "provenance": [],
      "include_colab_link": true
    },
    "kernelspec": {
      "name": "python3",
      "display_name": "Python 3"
    }
  },
  "cells": [
    {
      "cell_type": "markdown",
      "metadata": {
        "id": "view-in-github",
        "colab_type": "text"
      },
      "source": [
        "<a href=\"https://colab.research.google.com/github/MyDearGreatTeacher/HappyPythonDay/blob/master/Python_2_3_List.ipynb\" target=\"_parent\"><img src=\"https://colab.research.google.com/assets/colab-badge.svg\" alt=\"Open In Colab\"/></a>"
      ]
    },
    {
      "cell_type": "markdown",
      "metadata": {
        "id": "6StOCKqRgkMF",
        "colab_type": "text"
      },
      "source": [
        "# ref\n",
        "```\n",
        "《Python程式設計入門》書中的範例程式原始碼，以及練習題所需檔案。\n",
        "出版社：博碩\n",
        "書號：PG21421\n",
        "\n",
        "https://github.com/yehnan/python_book_yehnan\n",
        "```"
      ]
    },
    {
      "cell_type": "markdown",
      "metadata": {
        "id": "7luHWmy6rm5h",
        "colab_type": "text"
      },
      "source": [
        ""
      ]
    },
    {
      "cell_type": "markdown",
      "metadata": {
        "id": "lsBFMk_erj_O",
        "colab_type": "text"
      },
      "source": [
        "# List 切片運算(Slice)\n"
      ]
    },
    {
      "cell_type": "markdown",
      "metadata": {
        "id": "7wI2GPNFpHDD",
        "colab_type": "text"
      },
      "source": [
        "# List comprehension\u000b列表推導式"
      ]
    },
    {
      "cell_type": "markdown",
      "metadata": {
        "id": "LnXpmLiWoZ3H",
        "colab_type": "text"
      },
      "source": [
        "### List comprehension\u000b列表推導式的應用\n",
        "\n",
        "```\n",
        "阿基米德與圓王比賽下棋， 國王說要是自己輸了的 話，阿基米德想要什麼他都可以拿得出來。 阿基米德說那就要點米吧！ \n",
        "棋盤一共 64 個小格子，在第一個格子放 l粒米，第二個格子放 2 粒米，第三個格子放 4 粒米，第四個格子放 8粒米，餘依此頡推，後面每個格子的米都是前一個格子的 2 倍，一直把 64 個格子都放滿。\n",
        "\n",
        "到底需要多少粒米呢\n",
        "```"
      ]
    },
    {
      "cell_type": "code",
      "metadata": {
        "id": "KfiRtkX0oS0i",
        "colab_type": "code",
        "colab": {
          "base_uri": "https://localhost:8080/",
          "height": 34
        },
        "outputId": "9191119c-ea96-456b-c8b0-8739183ad5a6"
      },
      "source": [
        "sum([2**i for i in range(5)])"
      ],
      "execution_count": 2,
      "outputs": [
        {
          "output_type": "execute_result",
          "data": {
            "text/plain": [
              "31"
            ]
          },
          "metadata": {
            "tags": []
          },
          "execution_count": 2
        }
      ]
    },
    {
      "cell_type": "code",
      "metadata": {
        "id": "HkdrLz8AgjTf",
        "colab_type": "code",
        "colab": {
          "base_uri": "https://localhost:8080/",
          "height": 34
        },
        "outputId": "62e9c31e-999b-4737-fb0f-1692e9e196df"
      },
      "source": [
        "sum([2**i for i in range(64)])\n"
      ],
      "execution_count": 1,
      "outputs": [
        {
          "output_type": "execute_result",
          "data": {
            "text/plain": [
              "18446744073709551615"
            ]
          },
          "metadata": {
            "tags": []
          },
          "execution_count": 1
        }
      ]
    }
  ]
}